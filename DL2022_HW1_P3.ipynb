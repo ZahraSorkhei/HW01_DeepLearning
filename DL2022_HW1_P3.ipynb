{
  "cells": [
    {
      "cell_type": "markdown",
      "metadata": {
        "id": "VdMItIMcN176"
      },
      "source": [
        "# Deep Learning"
      ]
    },
    {
      "cell_type": "markdown",
      "metadata": {
        "id": "SmvrnNuMN18G"
      },
      "source": [
        "## HW1- Problem 3 - Regression (100 pts)"
      ]
    },
    {
      "cell_type": "markdown",
      "metadata": {
        "id": "zYjwHWWqN18J"
      },
      "source": [
        "### Please fill this part\n",
        "\n",
        "\n",
        "1.   Full Name: Zahra Sorkhei\n",
        "2.   Student Number: 98101725 \n",
        "\n",
        "\n",
        "*You are just allowded to change those parts that start with \"TO DO\". Please do not change other parts.*\n",
        "\n",
        "*It is highly recommended to read each codeline carefully and try to understand what it exactly does. Best of luck and have fun!*"
      ]
    },
    {
      "cell_type": "markdown",
      "metadata": {
        "id": "125PJEGPN18O"
      },
      "source": [
        "### Part1:\n",
        "Consider the dataset which has been given to you. Split the dataset into the `training dataset` and `test dataset`. You can use `80%` of the data for training and the rest for testing."
      ]
    },
    {
      "cell_type": "code",
      "execution_count": 1,
      "metadata": {
        "id": "6-BiQHaDN18K"
      },
      "outputs": [],
      "source": [
        "# You are not allowed to import other packages.\n",
        "\n",
        "import numpy as np\n",
        "import pandas as pd\n",
        "\n",
        "from matplotlib import pyplot as plt\n",
        "from sklearn.metrics import mean_squared_error"
      ]
    },
    {
      "cell_type": "code",
      "execution_count": 2,
      "metadata": {
        "colab": {
          "base_uri": "https://localhost:8080/"
        },
        "id": "ae1Ud3ATlUai",
        "outputId": "0a02c144-f8bd-491b-9748-13b9305dddef"
      },
      "outputs": [
        {
          "output_type": "stream",
          "name": "stdout",
          "text": [
            "Mounted at /content/drive\n",
            "/content/drive/MyDrive/HW1-DL\n"
          ]
        }
      ],
      "source": [
        "from google.colab import drive\n",
        "drive.mount('/content/drive')\n",
        "%cd /content/drive/MyDrive/HW1-DL"
      ]
    },
    {
      "cell_type": "code",
      "execution_count": 3,
      "metadata": {
        "id": "R2VqY6LnN18P"
      },
      "outputs": [],
      "source": [
        "dataset = pd.read_csv(\"./data/data01.csv\")\n",
        "dataset= dataset.to_numpy()\n",
        "dataset=dataset[:,1:]\n",
        "train = dataset[:int(len(dataset) * 0.8)]\n",
        "test = dataset[int(len(dataset) * 0.8):]\n",
        "\n",
        "\n",
        "# implement the split part\n",
        "# name them: x_train, x_test, y_train, y_test\n",
        "\n",
        "x_train = train[: , :-1]\n",
        "\n",
        "y_train = train[: , -1]\n",
        "\n",
        "\n",
        "x_test = test[: , :-1]\n",
        "y_test = test[: , -1]\n",
        "\n"
      ]
    },
    {
      "cell_type": "markdown",
      "metadata": {
        "id": "83fVqSSUN18R"
      },
      "source": [
        "### Part2:\n",
        "Assume there is simple linear relationship between X and Y. Train a simple `Linear Regression` on the training dataset and report its accuracy on the training and testing dataset, separately."
      ]
    },
    {
      "cell_type": "code",
      "execution_count": 4,
      "metadata": {
        "id": "7ShifwilN18S",
        "colab": {
          "base_uri": "https://localhost:8080/"
        },
        "outputId": "afff5280-2852-492d-ca97-416a4eb3afe6"
      },
      "outputs": [
        {
          "output_type": "stream",
          "name": "stdout",
          "text": [
            "(array([-1.02641738]), array([0.81500634]))\n"
          ]
        }
      ],
      "source": [
        "# here you can implement via sgd or use least square solution. we suggest the second one inv(A^T A) * A^T y.\n",
        "# consider m as the returned line --> m[0] = the slope , m[1] = y intercept, also don't forget to use numpy for calculating m.\n",
        "def linearRegression(x, y):\n",
        "  xy = []\n",
        "  for i, val in enumerate(x):\n",
        "      xy.append(x[i] * y[i])\n",
        "\n",
        "  x_2 = [i**2 for i in x]\n",
        "  n  = len(x)\n",
        "  b_1 = (n*sum(xy) - sum(x)*sum(y)) / (n*sum(x_2) - sum(x)**2)\n",
        "  b_0 = (sum(y) - b_1*sum(x))/n\n",
        "  return (b_1, b_0)\n",
        "m = linearRegression(x_train,y_train)\n",
        "\n",
        "print(m)"
      ]
    },
    {
      "cell_type": "code",
      "execution_count": 5,
      "metadata": {
        "colab": {
          "base_uri": "https://localhost:8080/"
        },
        "id": "mqcxsKB_N18U",
        "outputId": "8624cd77-ff77-494f-8a6c-d798952de46c"
      },
      "outputs": [
        {
          "output_type": "stream",
          "name": "stdout",
          "text": [
            "MSE train error: 0.3246776301777423\n",
            "MSE test error: 0.354495119213003\n"
          ]
        }
      ],
      "source": [
        "predicted_train_y = m[0] * x_train + m[1]\n",
        "predicted_test_y = m[0] * x_test + m[1]\n",
        "\n",
        "train_error = mean_squared_error(predicted_train_y,y_train)\n",
        "test_error = mean_squared_error(predicted_test_y,y_test)\n",
        "\n",
        "print(f\"MSE train error: {train_error}\\nMSE test error: {test_error}\")"
      ]
    },
    {
      "cell_type": "markdown",
      "metadata": {
        "id": "V0air2fKN18X"
      },
      "source": [
        "### Part3:\n",
        "Draw the line you've found in the last part, on train and test points (each separately)."
      ]
    },
    {
      "cell_type": "code",
      "execution_count": 6,
      "metadata": {
        "colab": {
          "base_uri": "https://localhost:8080/",
          "height": 298
        },
        "id": "4INTyvKnN18Y",
        "outputId": "f35d47a0-f63a-49e2-bd75-6e171a71fd3b"
      },
      "outputs": [
        {
          "output_type": "execute_result",
          "data": {
            "text/plain": [
              "Text(0.5, 1.0, 'Train dataset')"
            ]
          },
          "metadata": {},
          "execution_count": 6
        },
        {
          "output_type": "display_data",
          "data": {
            "text/plain": [
              "<Figure size 432x288 with 1 Axes>"
            ],
            "image/png": "[encoded data removed]"
          },
          "metadata": {
            "needs_background": "light"
          }
        }
      ],
      "source": [
        "plt.scatter(x_train, y_train)\n",
        "plt.scatter(x_train, m[0]*x_train + m[1], s=1)\n",
        "plt.title(\"Train dataset\")"
      ]
    },
    {
      "cell_type": "code",
      "execution_count": 7,
      "metadata": {
        "colab": {
          "base_uri": "https://localhost:8080/",
          "height": 298
        },
        "id": "6OpX43CuN18Z",
        "outputId": "da4df81b-9f88-4b47-d940-f7dd07f1382d"
      },
      "outputs": [
        {
          "output_type": "execute_result",
          "data": {
            "text/plain": [
              "Text(0.5, 1.0, 'Test dataset')"
            ]
          },
          "metadata": {},
          "execution_count": 7
        },
        {
          "output_type": "display_data",
          "data": {
            "text/plain": [
              "<Figure size 432x288 with 1 Axes>"
            ],
            "image/png": "[encoded data removed]"
          },
          "metadata": {
            "needs_background": "light"
          }
        }
      ],
      "source": [
        "plt.scatter(x_test, y_test)\n",
        "plt.scatter(x_test, m[0]*x_test + m[1], s=1)\n",
        "plt.title(\"Test dataset\")"
      ]
    },
    {
      "cell_type": "markdown",
      "metadata": {
        "id": "Btr_3CerN18a"
      },
      "source": [
        "### Part4:\n",
        "Were the reported accuracies acceptable?\n",
        "\n",
        "The stated loss is not too much and is almost acceptable, and this is due to the adaptation of the line to the average data\n",
        "\n",
        "\n",
        "What about the line you drew in the last part?\n",
        "\n",
        "When y is the average shape, it is suitable, but in any case, we have relatively  non-compliance in many places.\n",
        "\n",
        "Was it appropriate for the dataset?\n",
        "\n",
        "No, because the data has a curved shape in many places and modeling it with a line has many errors.\n",
        "<br><br/>\n",
        "Explain what are the main problems here."
      ]
    },
    {
      "cell_type": "markdown",
      "metadata": {
        "id": "DBwSpPhnN18b"
      },
      "source": [
        "Linear regression has one problem, is that it tends to underfit the data. It gives us the lowest mean-squared error for unbiased estimators. Hence with underfitting, we aren’t getting the best predictions. we assumed the model to be simple."
      ]
    },
    {
      "cell_type": "markdown",
      "metadata": {
        "id": "DPRKQGIsN18c"
      },
      "source": [
        "### Part5:\n",
        "Now, consider the `Locally Weighted Linear Regression` approach for this problem. Do expect it performs better than simple `Linear Regression` for this dataset?"
      ]
    },
    {
      "cell_type": "markdown",
      "metadata": {
        "id": "6uXeQr2EN18d"
      },
      "source": [
        "The locally weighted method performs a regression around the point of interest using only training data that are \"local\" to that point, and thus can reduce the impact of noise from unrelated training data. So LWLR will have less loss and not have underfitting"
      ]
    },
    {
      "cell_type": "markdown",
      "metadata": {
        "id": "HIO-OsrIN18e"
      },
      "source": [
        "### Part6:\n",
        "Here, we want to implement the `suggested model`. You can implement any weight function you want, the below implementation is just a sample:\n",
        "<br><br/>\n",
        "\\begin{equation*}\n",
        "    w^{(i)}=exp\\left(-\\frac{(\\mathbf x^{(i)}-\\mathbf x)^\\top(\\mathbf x^{(i)}-\\mathbf x)}{2\\tau^2}\\right)\n",
        "\\end{equation*}"
      ]
    },
    {
      "cell_type": "code",
      "execution_count": 62,
      "metadata": {
        "id": "fDNXIJ6KN18f"
      },
      "outputs": [],
      "source": [
        "def get_weight_matrix(the_query_point, train_dataset, tau):\n",
        "    l = train_dataset.shape[0]\n",
        "    W = np.mat(np.eye(l))\n",
        "    query=[]\n",
        "    query.append(the_query_point[0,0].flatten()[0])\n",
        "    query.append(the_query_point[0,1])\n",
        "    for i, xi in enumerate(train_dataset):\n",
        "        W[i, i] = np.exp(-1*((xi-query).T@(xi-query))/(2*tau**2))\n",
        "    return W"
      ]
    },
    {
      "cell_type": "markdown",
      "metadata": {
        "id": "fTuM314fN18g"
      },
      "source": [
        "Now implement the `closed form solution` based on the following formula:\n",
        "<br><br/>\n",
        "\\begin{equation*}\n",
        "    \\boldsymbol\\theta=(X^\\top WX)^{-1}(X^\\top WY)\n",
        "\\end{equation*}\n",
        "<br><br/>\n",
        "Of course if you use another form, implement your own."
      ]
    },
    {
      "cell_type": "code",
      "execution_count": 63,
      "metadata": {
        "id": "HDHI1xy7N18g"
      },
      "outputs": [],
      "source": [
        "def predict(train_X, train_Y, query_x, hyperparameter):\n",
        "    l = train_X.shape[0]\n",
        "    X = np.hstack((train_X, np.ones((l, 1))))\n",
        "\n",
        "\n",
        "    qx = np.mat([query_x, 1])\n",
        "    W = get_weight_matrix(qx, X, hyperparameter)\n",
        "    theta = np.linalg.inv(X.T@W@X)@((X.T@W@train_Y).T)\n",
        "    #print(\"*  \", np.dot(qx, theta))\n",
        "\n",
        "    return np.dot(qx, theta)"
      ]
    },
    {
      "cell_type": "markdown",
      "metadata": {
        "id": "ThSZ_7hkN18h"
      },
      "source": [
        "### Part7:\n",
        "Report accuracy of this model on the test dataset. Also, draw a plot that contains (x_test, y_test) pairs and (x_test, predicted_y) pairs that differ in color."
      ]
    },
    {
      "cell_type": "code",
      "execution_count": 78,
      "metadata": {
        "colab": {
          "base_uri": "https://localhost:8080/"
        },
        "id": "JnRGTL2rN18i",
        "outputId": "9925bc27-ab27-4c73-e2c3-be46e3014898"
      },
      "outputs": [
        {
          "output_type": "stream",
          "name": "stderr",
          "text": [
            "/usr/local/lib/python3.7/dist-packages/numpy/matrixlib/defmatrix.py:145: VisibleDeprecationWarning: Creating an ndarray from ragged nested sequences (which is a list-or-tuple of lists-or-tuples-or ndarrays with different lengths or shapes) is deprecated. If you meant to do this, you must specify 'dtype=object' when creating the ndarray.\n",
            "  arr = N.array(data, dtype=dtype, copy=copy)\n"
          ]
        },
        {
          "output_type": "stream",
          "name": "stdout",
          "text": [
            "MSE test error: 0.10590729682860234\n"
          ]
        },
        {
          "output_type": "stream",
          "name": "stderr",
          "text": [
            "/usr/local/lib/python3.7/dist-packages/sklearn/utils/validation.py:598: FutureWarning: np.matrix usage is deprecated in 1.0 and will raise a TypeError in 1.2. Please convert to a numpy array with np.asarray. For more information see: https://numpy.org/doc/stable/reference/generated/numpy.matrix.html\n",
            "  FutureWarning,\n"
          ]
        }
      ],
      "source": [
        "hyperparameter=0.1\n",
        "predicted_test = [predict(x_train, y_train, query, hyperparameter) for query in x_test]\n",
        "p_test=np.concatenate( predicted_test, axis=0 )\n",
        "error =   mean_squared_error(p_test,y_test)\n",
        "print(f\"MSE test error: {error}\")"
      ]
    },
    {
      "cell_type": "code",
      "execution_count": 76,
      "metadata": {
        "colab": {
          "base_uri": "https://localhost:8080/",
          "height": 283
        },
        "id": "2Rvont6XN18i",
        "outputId": "d37d81f7-96fc-491d-f49b-ca0a54ae275a"
      },
      "outputs": [
        {
          "output_type": "execute_result",
          "data": {
            "text/plain": [
              "<matplotlib.collections.PathCollection at 0x7f688c0bce10>"
            ]
          },
          "metadata": {},
          "execution_count": 76
        },
        {
          "output_type": "display_data",
          "data": {
            "text/plain": [
              "<Figure size 432x288 with 1 Axes>"
            ],
            "image/png": "[encoded data removed]"
          },
          "metadata": {
            "needs_background": "light"
          }
        }
      ],
      "source": [
        "plt.scatter(x_test, y_test, c=\"blue\")\n",
        "plt.scatter(x_test, predicted_test, c=\"yellow\")"
      ]
    },
    {
      "cell_type": "markdown",
      "metadata": {
        "id": "WoCOiiq8N18j"
      },
      "source": [
        "### Part8:\n",
        "Is the performance of the new model better than the previous one? `Explain`."
      ]
    },
    {
      "cell_type": "markdown",
      "metadata": {
        "id": "QQYgYkpNN18k"
      },
      "source": [
        "\n",
        "Yes. It has the necessary curvature to estimate the function and has paid enough attention to the details and does not have overfitting.Also, we have less loss"
      ]
    },
    {
      "cell_type": "markdown",
      "metadata": {
        "id": "lqVK8eHyN18k"
      },
      "source": [
        "### Part9:\n",
        "Now, we want to consider the `KNN` approach for this problem; Do you think it will perform well?"
      ]
    },
    {
      "cell_type": "markdown",
      "metadata": {
        "id": "cc3pNvF-N18k"
      },
      "source": [
        "Yes, we do not have predicted changes in some points, and using the changes of the neighbors of a point helps in getting a better estimate."
      ]
    },
    {
      "cell_type": "markdown",
      "metadata": {
        "id": "zZ96efpcN18l"
      },
      "source": [
        "### Part10:\n",
        "Implementing the `KNN model`."
      ]
    },
    {
      "cell_type": "code",
      "execution_count": 80,
      "metadata": {
        "id": "N6-DbyopN18l"
      },
      "outputs": [],
      "source": [
        "class KNN:\n",
        "    def __init__(self, number_neighbours, X, Y):\n",
        "        self.k = number_neighbours\n",
        "        self.X = X\n",
        "        self.Y = Y\n",
        "\n",
        "    def distance(self, x1, x2):\n",
        "      dist = 0.0\n",
        "      for i in range(len(x2)):\n",
        "        dist += (x1[i] - x2[i])**2\n",
        "        #print(i)\n",
        "        #print(x1[i] - x2[i])\n",
        "      dist = np.sqrt(dist) # implement the distance function\n",
        "      return dist\n",
        "\n",
        "    def return_nn_ids(self, x):\n",
        "      distances = list()\n",
        "      j=0\n",
        "      for train_row in self.X:\n",
        "        dist = self.distance( train_row ,x)\n",
        "        distances.append((self.Y[j], dist))\n",
        "        #print(dist)\n",
        "        j+=1\n",
        "      distances.sort(key=lambda w:w[1])\n",
        "      indices = list()\n",
        "      for i in range(self.k):\n",
        "        #print(distances[i][0])\n",
        "        indices.append(distances[i][0])\n",
        "      # find indices of k nearest neighbours to x\n",
        "      return indices\n",
        "\n",
        "    def predict(self, x):\n",
        "      neareest_indices = self.return_nn_ids(x)\n",
        "      predicted_y =np.mean(neareest_indices)  \n",
        "      return predicted_y"
      ]
    },
    {
      "cell_type": "code",
      "execution_count": 81,
      "metadata": {
        "id": "idy83BlvN18m"
      },
      "outputs": [],
      "source": [
        "def evaluation(k, x_train, y_train, x_test, y_test):\n",
        "    model = KNN(k, x_train, y_train)\n",
        "    predicted_y = [model.predict(x) for x in x_test]\n",
        "    error =  mean_squared_error(predicted_y ,y_test)\n",
        "    return   error,predicted_y"
      ]
    },
    {
      "cell_type": "code",
      "execution_count": 82,
      "metadata": {
        "colab": {
          "base_uri": "https://localhost:8080/"
        },
        "id": "vlORDAFFN18m",
        "outputId": "9e6c844c-d6ed-4778-8764-dd4b5ba7416b"
      },
      "outputs": [
        {
          "output_type": "stream",
          "name": "stdout",
          "text": [
            "MSE error of KNN for test dataset: 0.09998578918819372\n"
          ]
        }
      ],
      "source": [
        "k = 5\n",
        "error_knn, predicted_y = evaluation(k, x_train, y_train, x_test, y_test)\n",
        "\n",
        "print(f\"MSE error of KNN for test dataset: {error_knn}\")"
      ]
    },
    {
      "cell_type": "code",
      "execution_count": 83,
      "metadata": {
        "colab": {
          "base_uri": "https://localhost:8080/",
          "height": 283
        },
        "id": "NkmMKKEHN18n",
        "outputId": "2291d25d-a761-453f-d6cf-b7cb0bdfadd3"
      },
      "outputs": [
        {
          "output_type": "execute_result",
          "data": {
            "text/plain": [
              "<matplotlib.collections.PathCollection at 0x7f688c054f10>"
            ]
          },
          "metadata": {},
          "execution_count": 83
        },
        {
          "output_type": "display_data",
          "data": {
            "text/plain": [
              "<Figure size 432x288 with 1 Axes>"
            ],
            "image/png": "[encoded data removed]"
          },
          "metadata": {
            "needs_background": "light"
          }
        }
      ],
      "source": [
        "plt.scatter(x_test, y_test, c=\"blue\")\n",
        "plt.scatter(x_test, predicted_y, c=\"yellow\")"
      ]
    },
    {
      "cell_type": "markdown",
      "metadata": {
        "id": "FWtRyk9SN18n"
      },
      "source": [
        "To find best K for this algorithm we suggest to use cross-validation.\n",
        "<br><br/>\n",
        "Did this model perform well (due to the plot and test accuracy)?"
      ]
    },
    {
      "cell_type": "code",
      "source": [
        "error = 1000000\n",
        "best_k=0\n",
        "for k in range(1,100):\n",
        "  err=[]\n",
        "  for i in range(5):\n",
        "    xx_train = x_train[np.r_[0:i*int(len(x_train)/5),(i+1)*int(len(x_train)/5):len(x_train)]]\n",
        "    yy_train = y_train[np.r_[0:i*int(len(x_train)/5),(i+1)*int(len(x_train)/5):len(x_train)]]\n",
        "    x_val =x_train[np.r_[i*int(len(x_train)/5):(i+1)*int(len(x_train)/5)]]\n",
        "    y_val =y_train[np.r_[i*int(len(x_train)/5):(i+1)*int(len(x_train)/5)]]\n",
        "    error_knn, predicted_y = evaluation(k, xx_train, yy_train, x_val, y_val)\n",
        "    err.append(error_knn)\n",
        "  print(\"error for k= \",k,\" is \", np.mean(err))\n",
        "  if(np.mean(err)<error):\n",
        "    error=np.mean(err)\n",
        "    best_k=k\n",
        "print(\"k for best accuracy by KNN is: \", best_k, \" and error of that is: \",error)    \n",
        "\n"
      ],
      "metadata": {
        "colab": {
          "base_uri": "https://localhost:8080/"
        },
        "id": "KCt-YcLn-s3B",
        "outputId": "1caaab96-0d50-4bd8-dbd1-440d19aae959"
      },
      "execution_count": 84,
      "outputs": [
        {
          "output_type": "stream",
          "name": "stdout",
          "text": [
            "error for k=  1  is  0.18156230916524127\n",
            "error for k=  2  is  0.1324494343306188\n",
            "error for k=  3  is  0.11288726769313169\n",
            "error for k=  4  is  0.10197534972778222\n",
            "error for k=  5  is  0.09812821524433994\n",
            "error for k=  6  is  0.09844163313878147\n",
            "error for k=  7  is  0.09596216754522938\n",
            "error for k=  8  is  0.09378396354728953\n",
            "error for k=  9  is  0.09348196418423205\n",
            "error for k=  10  is  0.09212804299531918\n",
            "error for k=  11  is  0.09266761286862198\n",
            "error for k=  12  is  0.09205262573949778\n",
            "error for k=  13  is  0.09177367887091595\n",
            "error for k=  14  is  0.09132017609378947\n",
            "error for k=  15  is  0.0917857172919641\n",
            "error for k=  16  is  0.09123584062916552\n",
            "error for k=  17  is  0.09138457855198831\n",
            "error for k=  18  is  0.09160094353343678\n",
            "error for k=  19  is  0.09192044465095013\n",
            "error for k=  20  is  0.09250541402062351\n",
            "error for k=  21  is  0.0932855735616096\n",
            "error for k=  22  is  0.09363815709708505\n",
            "error for k=  23  is  0.09377773509048566\n",
            "error for k=  24  is  0.0934903709288887\n",
            "error for k=  25  is  0.09368709529842374\n",
            "error for k=  26  is  0.09397775926677158\n",
            "error for k=  27  is  0.09380734710194616\n",
            "error for k=  28  is  0.09425888203777426\n",
            "error for k=  29  is  0.09479600884359156\n",
            "error for k=  30  is  0.09496625963350719\n",
            "error for k=  31  is  0.0957554416088674\n",
            "error for k=  32  is  0.09547098977539066\n",
            "error for k=  33  is  0.09615655774617766\n",
            "error for k=  34  is  0.09690222084975178\n",
            "error for k=  35  is  0.0974840287660168\n",
            "error for k=  36  is  0.09828554882529758\n",
            "error for k=  37  is  0.0992299691753699\n",
            "error for k=  38  is  0.09927864172005071\n",
            "error for k=  39  is  0.09983341277928055\n",
            "error for k=  40  is  0.10065649178489225\n",
            "error for k=  41  is  0.10149363312387431\n",
            "error for k=  42  is  0.10190445303147153\n",
            "error for k=  43  is  0.10253873432447742\n",
            "error for k=  44  is  0.10371441416191392\n",
            "error for k=  45  is  0.10458419905389364\n",
            "error for k=  46  is  0.10510645125506886\n",
            "error for k=  47  is  0.1055768736127238\n",
            "error for k=  48  is  0.10657493640234583\n",
            "error for k=  49  is  0.10717156492155197\n",
            "error for k=  50  is  0.10844560414450029\n",
            "error for k=  51  is  0.10942297139663897\n",
            "error for k=  52  is  0.11043771912612332\n",
            "error for k=  53  is  0.11161995631153496\n",
            "error for k=  54  is  0.11325758497580293\n",
            "error for k=  55  is  0.1137721152963298\n",
            "error for k=  56  is  0.11538492863408054\n",
            "error for k=  57  is  0.11676238722189365\n",
            "error for k=  58  is  0.11893005096257521\n",
            "error for k=  59  is  0.11972709192701651\n",
            "error for k=  60  is  0.12120821903241956\n",
            "error for k=  61  is  0.12329297024441639\n",
            "error for k=  62  is  0.12476267493079811\n",
            "error for k=  63  is  0.1262931980002662\n",
            "error for k=  64  is  0.1284101075591899\n",
            "error for k=  65  is  0.1301302881675155\n",
            "error for k=  66  is  0.132096237816395\n",
            "error for k=  67  is  0.13396964208568773\n",
            "error for k=  68  is  0.13529770232642419\n",
            "error for k=  69  is  0.137304669890227\n",
            "error for k=  70  is  0.1389673821979272\n",
            "error for k=  71  is  0.14076165127702037\n",
            "error for k=  72  is  0.1426153108619717\n",
            "error for k=  73  is  0.1453813440842647\n",
            "error for k=  74  is  0.14660017187233673\n",
            "error for k=  75  is  0.1488328099131516\n",
            "error for k=  76  is  0.15124029750978096\n",
            "error for k=  77  is  0.15371093045335557\n",
            "error for k=  78  is  0.1558138802967008\n",
            "error for k=  79  is  0.1579137006056783\n",
            "error for k=  80  is  0.16024324109959845\n",
            "error for k=  81  is  0.16259394166665847\n",
            "error for k=  82  is  0.1657029030020564\n",
            "error for k=  83  is  0.16768232432018487\n",
            "error for k=  84  is  0.1702514712309764\n",
            "error for k=  85  is  0.17272727558769527\n",
            "error for k=  86  is  0.1753120295834727\n",
            "error for k=  87  is  0.1780546493352371\n",
            "error for k=  88  is  0.18107457836940838\n",
            "error for k=  89  is  0.1838852125362625\n",
            "error for k=  90  is  0.1868881278779304\n",
            "error for k=  91  is  0.19025973363113552\n",
            "error for k=  92  is  0.193059976234347\n",
            "error for k=  93  is  0.19627419312340616\n",
            "error for k=  94  is  0.19929145311049232\n",
            "error for k=  95  is  0.20238346681809105\n",
            "error for k=  96  is  0.2061897048718005\n",
            "error for k=  97  is  0.20946023824296273\n",
            "error for k=  98  is  0.21339077235482842\n",
            "error for k=  99  is  0.2168684269748507\n",
            "k for best accuracy by KNN is:  16  and error of that is:  0.09123584062916552\n"
          ]
        }
      ]
    },
    {
      "cell_type": "code",
      "source": [
        "k = 16\n",
        "error_knn, predicted_y = evaluation(k, x_train, y_train, x_test, y_test)\n",
        "\n",
        "print(f\"MSE error of KNN for test dataset: {error_knn}\")\n",
        "plt.scatter(x_test, y_test, c=\"blue\")\n",
        "plt.scatter(x_test, predicted_y, c=\"yellow\")"
      ],
      "metadata": {
        "colab": {
          "base_uri": "https://localhost:8080/",
          "height": 301
        },
        "id": "E1AvnyTIIvRg",
        "outputId": "5cd111b2-17be-4784-cb4b-70f76421337f"
      },
      "execution_count": 85,
      "outputs": [
        {
          "output_type": "stream",
          "name": "stdout",
          "text": [
            "MSE error of KNN for test dataset: 0.0985600173781031\n"
          ]
        },
        {
          "output_type": "execute_result",
          "data": {
            "text/plain": [
              "<matplotlib.collections.PathCollection at 0x7f688bfe3b90>"
            ]
          },
          "metadata": {},
          "execution_count": 85
        },
        {
          "output_type": "display_data",
          "data": {
            "text/plain": [
              "<Figure size 432x288 with 1 Axes>"
            ],
            "image/png": "[encoded data removed]"
          },
          "metadata": {
            "needs_background": "light"
          }
        }
      ]
    },
    {
      "cell_type": "markdown",
      "metadata": {
        "id": "zcIDpsmBN18o"
      },
      "source": [
        "\n",
        "According to the graph, the changes in the test data are well predicted. \n",
        "We also have the general form of the function and do not get involved in details and overfitting.We have the lowest loss in all steps."
      ]
    }
  ],
  "metadata": {
    "colab": {
      "provenance": []
    },
    "kernelspec": {
      "display_name": "Python 3.7.4 64-bit",
      "language": "python",
      "name": "python3"
    },
    "language_info": {
      "codemirror_mode": {
        "name": "ipython",
        "version": 3
      },
      "file_extension": ".py",
      "mimetype": "text/x-python",
      "name": "python",
      "nbconvert_exporter": "python",
      "pygments_lexer": "ipython3",
      "version": "3.7.4"
    },
    "toc": {
      "base_numbering": 1,
      "nav_menu": {},
      "number_sections": true,
      "sideBar": true,
      "skip_h1_title": false,
      "title_cell": "Table of Contents",
      "title_sidebar": "Contents",
      "toc_cell": false,
      "toc_position": {},
      "toc_section_display": true,
      "toc_window_display": false
    },
    "varInspector": {
      "cols": {
        "lenName": 16,
        "lenType": 16,
        "lenVar": 40
      },
      "kernels_config": {
        "python": {
          "delete_cmd_postfix": "",
          "delete_cmd_prefix": "del ",
          "library": "var_list.py",
          "varRefreshCmd": "print(var_dic_list())"
        },
        "r": {
          "delete_cmd_postfix": ") ",
          "delete_cmd_prefix": "rm(",
          "library": "var_list.r",
          "varRefreshCmd": "cat(var_dic_list()) "
        }
      },
      "types_to_exclude": [
        "module",
        "function",
        "builtin_function_or_method",
        "instance",
        "_Feature"
      ],
      "window_display": false
    },
    "vscode": {
      "interpreter": {
        "hash": "aee8b7b246df8f9039afb4144a1f6fd8d2ca17a180786b69acc140d282b71a49"
      }
    }
  },
  "nbformat": 4,
  "nbformat_minor": 0
}