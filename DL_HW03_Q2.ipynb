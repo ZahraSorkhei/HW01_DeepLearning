{
  "cells": [
    {
      "cell_type": "markdown",
      "metadata": {
        "id": "view-in-github",
        "colab_type": "text"
      },
      "source": [
        "<a href=\"https://colab.research.google.com/github/ZahraSorkhei/HW_DeepLearning/blob/main/DL_HW03_Q2.ipynb\" target=\"_parent\"><img src=\"https://colab.research.google.com/assets/colab-badge.svg\" alt=\"Open In Colab\"/></a>"
      ]
    },
    {
      "cell_type": "markdown",
      "source": [
        "##**Libraries**##"
      ],
      "metadata": {
        "id": "fVYIEJeEp1-4"
      }
    },
    {
      "cell_type": "code",
      "execution_count": 2,
      "metadata": {
        "id": "aR7nS3fzYMld"
      },
      "outputs": [],
      "source": [
        "import time\n",
        "import copy\n",
        "import numpy as np\n",
        "import pandas as pd\n",
        "import matplotlib.pyplot as plt\n",
        "import torch\n",
        "import torchvision\n",
        "from torchvision import datasets, transforms\n",
        "from torchsummary import summary\n",
        "from torch.optim import lr_scheduler\n",
        "import torch.nn.functional as F\n",
        "import torch.nn as nn\n",
        "import torchvision.models as models\n",
        "from torch import nn, optim\n",
        "import torch.nn as nn\n",
        "import torch\n",
        "from torch import Tensor\n",
        "from typing import Type"
      ]
    },
    {
      "cell_type": "markdown",
      "source": [
        "##**Load Dataset**##"
      ],
      "metadata": {
        "id": "fsecdsCIqUjR"
      }
    },
    {
      "cell_type": "code",
      "execution_count": 3,
      "metadata": {
        "colab": {
          "base_uri": "https://localhost:8080/",
          "height": 150,
          "referenced_widgets": [
            "19cb82117332418793e9dfc23ebd07d4",
            "9de84f5c0e3f4681b11fc99ed5ca6177",
            "d01390f5a96c4ef181faeb75ac8527e4",
            "bd85255c054546a69c232c9c366ed54e",
            "48e9dd3874a044d4bc64a38363e398f7",
            "9ab7da77ff0841b9835c939be3615f86",
            "f9a21e6862ca4e2fac1350f4d3a2fcfc",
            "60ec34786b76431c94fc7eb9cfb2f05e",
            "81222434eb7d42d386bf2d809adcb139",
            "f87b5d614fd74e3abdfdfe678da38e92",
            "302474d78c4c451f9f259d3455b4ec17",
            "e93964f9d3dc4b3eac8161917ca5613b",
            "e14b614f20884da48cf745d05c9a0f90",
            "ae8cc98d7d634a9788fa790b23f553aa",
            "43e23a30f87f48a0865c84579b945844",
            "91d1f286d5e243ccbfddf787f8a11b8f",
            "4be9125ee2964baab088bb1c99bd76f7",
            "7d2e2d2a61894f208ce93d53a9521986",
            "902d738c77714d72ab84d2a78112542c",
            "00669b79c3c04857b855ced18ea21981",
            "b78e2f55861e494a8c3fb125231724a0",
            "02c258c16d5e41c2a89f946c6ebed258"
          ]
        },
        "id": "7FrjNcxvdngj",
        "outputId": "610d1bac-de08-4568-dc06-3fbc05d17be7"
      },
      "outputs": [
        {
          "output_type": "stream",
          "name": "stdout",
          "text": [
            "Downloading https://www.cs.toronto.edu/~kriz/cifar-10-python.tar.gz to /content/train/cifar-10-python.tar.gz\n"
          ]
        },
        {
          "output_type": "display_data",
          "data": {
            "text/plain": [
              "  0%|          | 0/170498071 [00:00<?, ?it/s]"
            ],
            "application/vnd.jupyter.widget-view+json": {
              "version_major": 2,
              "version_minor": 0,
              "model_id": "19cb82117332418793e9dfc23ebd07d4"
            }
          },
          "metadata": {}
        },
        {
          "output_type": "stream",
          "name": "stdout",
          "text": [
            "Extracting /content/train/cifar-10-python.tar.gz to /content/train/\n",
            "Downloading https://www.cs.toronto.edu/~kriz/cifar-10-python.tar.gz to /content/val/cifar-10-python.tar.gz\n"
          ]
        },
        {
          "output_type": "display_data",
          "data": {
            "text/plain": [
              "  0%|          | 0/170498071 [00:00<?, ?it/s]"
            ],
            "application/vnd.jupyter.widget-view+json": {
              "version_major": 2,
              "version_minor": 0,
              "model_id": "e93964f9d3dc4b3eac8161917ca5613b"
            }
          },
          "metadata": {}
        },
        {
          "output_type": "stream",
          "name": "stdout",
          "text": [
            "Extracting /content/val/cifar-10-python.tar.gz to /content/val/\n"
          ]
        }
      ],
      "source": [
        "transform = transforms.Compose([transforms.Resize((224,224)),\n",
        "                                transforms.ToTensor(),\n",
        "                                transforms.Normalize([0.485,0.456,  \n",
        "                                0.406], [0.229, 0.224, 0.225])])\n",
        "trainset = datasets.CIFAR10('/content/train/', download=True, train=True, transform=transform)\n",
        "valset = datasets.CIFAR10('/content/val/', download=True, train=False, transform=transform)\n",
        "trainloader = torch.utils.data.DataLoader(trainset, batch_size=64, shuffle=True)\n",
        "valloader = torch.utils.data.DataLoader(valset, batch_size=64, shuffle=True)\n",
        "len_trainset = len(trainset)\n",
        "len_valset = len(valset)\n",
        "classes = ('plane', 'car', 'bird', 'cat','deer', 'dog', 'frog', 'horse', 'ship', 'truck')\n",
        "device = torch.device(\"cuda:0\" if torch.cuda.is_available() else \"cpu\")"
      ]
    },
    {
      "cell_type": "code",
      "execution_count": null,
      "metadata": {
        "colab": {
          "base_uri": "https://localhost:8080/"
        },
        "id": "nwP1fZVOvWt_",
        "outputId": "bf582643-646e-4aeb-8003-71d04175edf7"
      },
      "outputs": [
        {
          "name": "stdout",
          "output_type": "stream",
          "text": [
            "torch.Size([64, 3, 224, 224])\n",
            "torch.Size([64])\n"
          ]
        }
      ],
      "source": [
        "dataiter = iter(trainloader)\n",
        "images, labels =  next(dataiter)\n",
        "print(images.shape)\n",
        "print(labels.shape)"
      ]
    },
    {
      "cell_type": "markdown",
      "source": [
        "##**Part A**##"
      ],
      "metadata": {
        "id": "J9i1NZgeqqPA"
      }
    },
    {
      "cell_type": "code",
      "execution_count": 23,
      "metadata": {
        "colab": {
          "base_uri": "https://localhost:8080/",
          "height": 156,
          "referenced_widgets": [
            "c7ef11588d1f4a84afff93c97e8bb526",
            "d4ced2d8ecf246b6bb942335e67e1a12",
            "7f5c83c36bff4d3e90fae73f58084930",
            "b9cee7b56c2c4ed489fd8297a2334318",
            "74a7ce314bfb45ac84d8604e199967a3",
            "34206ab643834c2494230bcaf52c7082",
            "a265dcd929de40929d854a7446449acf",
            "f2c8729c18bf405c9ddd66f27257b822",
            "df1c4243b24f4459b362c8311cef6ab2",
            "947bf524950d439791064a1631e56851",
            "36ed9b1296544d15849af44a568fc513"
          ]
        },
        "id": "jIFxL01OvtX2",
        "outputId": "d7e0cdc2-600e-4a38-ed21-64b767ca754e"
      },
      "outputs": [
        {
          "output_type": "stream",
          "name": "stderr",
          "text": [
            "/usr/local/lib/python3.8/dist-packages/torchvision/models/_utils.py:208: UserWarning: The parameter 'pretrained' is deprecated since 0.13 and may be removed in the future, please use 'weights' instead.\n",
            "  warnings.warn(\n",
            "/usr/local/lib/python3.8/dist-packages/torchvision/models/_utils.py:223: UserWarning: Arguments other than a weight enum or `None` for 'weights' are deprecated since 0.13 and may be removed in the future. The current behavior is equivalent to passing `weights=ResNet50_Weights.IMAGENET1K_V1`. You can also use `weights=ResNet50_Weights.DEFAULT` to get the most up-to-date weights.\n",
            "  warnings.warn(msg)\n",
            "Downloading: \"https://download.pytorch.org/models/resnet50-0676ba61.pth\" to /root/.cache/torch/hub/checkpoints/resnet50-0676ba61.pth\n"
          ]
        },
        {
          "output_type": "display_data",
          "data": {
            "text/plain": [
              "  0%|          | 0.00/97.8M [00:00<?, ?B/s]"
            ],
            "application/vnd.jupyter.widget-view+json": {
              "version_major": 2,
              "version_minor": 0,
              "model_id": "c7ef11588d1f4a84afff93c97e8bb526"
            }
          },
          "metadata": {}
        }
      ],
      "source": [
        "resnet = models.resnet50(pretrained=True)\n",
        "for param in resnet.parameters():\n",
        "   param.requires_grad = False\n",
        "num_ftrs = resnet.fc.in_features\n",
        "resnet.fc = nn.Linear(num_ftrs, 10)\n",
        "resnet = resnet.to(device)\n",
        "criterion = nn.CrossEntropyLoss()\n",
        "optimizer = optim.Adam(resnet.fc.parameters())"
      ]
    },
    {
      "cell_type": "code",
      "execution_count": 10,
      "metadata": {
        "id": "9sMupoSvz8_A"
      },
      "outputs": [],
      "source": [
        "def train_and_evaluate(model, trainloader, valloader, criterion, optimizer, len_trainset, len_valset, num_epochs=25):\n",
        "   model.train()\n",
        "   best_model_wts = copy.deepcopy(model.state_dict())\n",
        "   best_acc = 0.0\n",
        "   for epoch in range(num_epochs):\n",
        "      model.train()\n",
        "      print(\"Epoch {}/{}\".format(epoch, num_epochs - 1))\n",
        "      print('-' * 10)\n",
        "      running_loss = 0.0\n",
        "      running_corrects = 0\n",
        "      for inputs, labels in trainloader:\n",
        "         inputs = inputs.to(device)\n",
        "         labels = labels.to(device)\n",
        "         optimizer.zero_grad()\n",
        "         outputs = model(inputs)\n",
        "         loss = criterion(outputs, labels)\n",
        "         _, preds = torch.max(outputs, 1)\n",
        "         loss.backward() \n",
        "         optimizer.step()  \n",
        "         running_loss += loss.item() * inputs.size(0)\n",
        "         running_corrects += torch.sum(preds == labels.data)\n",
        "      epoch_loss = running_loss / len_trainset\n",
        "      epoch_acc = running_corrects.double() / len_trainset\n",
        "      print('Train Loss: {:.4f} Acc: {:.4f}'.format(epoch_loss,\n",
        "             epoch_acc)) \n",
        "         \n",
        "      model.eval()\n",
        "      running_loss_val = 0.0 \n",
        "      running_corrects_val = 0\n",
        "      for inputs, labels in valloader:\n",
        "         inputs = inputs.to(device)\n",
        "         labels = labels.to(device)\n",
        "         outputs = model(inputs) \n",
        "         loss = criterion(outputs,labels)\n",
        "         _, preds = torch.max(outputs, 1)\n",
        "         running_loss_val += loss.item() * inputs.size(0)\n",
        "         running_corrects_val += torch.sum(preds == labels.data)\n",
        "      \n",
        "      epoch_loss_val = running_loss_val / len_valset\n",
        "      epoch_acc_val = running_corrects_val.double() / len_valset\n",
        "      \n",
        "      if epoch_acc_val > best_acc:\n",
        "         best_acc = epoch_acc_val\n",
        "         best_model_wts = copy.deepcopy(model.state_dict())\n",
        "      \n",
        "      print(' Val Loss: {:.4f} Acc: {:.4f}'.format(epoch_loss_val,\n",
        "             epoch_acc_val))\n",
        "      \n",
        "   print()\n",
        "   print('Best val Acc: {:4f}'.format(best_acc))\n",
        "   model.load_state_dict(best_model_wts)\n",
        "   return model"
      ]
    },
    {
      "cell_type": "code",
      "execution_count": null,
      "metadata": {
        "colab": {
          "base_uri": "https://localhost:8080/"
        },
        "id": "X3HahZh026O0",
        "outputId": "bd152a83-a392-4016-eb09-28608f934ea3"
      },
      "outputs": [
        {
          "name": "stdout",
          "output_type": "stream",
          "text": [
            "Epoch 0/2\n",
            "----------\n",
            "Train Loss: 0.7636 Acc: 0.7471\n",
            " Val Loss: 0.5794 Acc: 0.8000\n",
            "Epoch 1/2\n",
            "----------\n",
            "Train Loss: 0.5909 Acc: 0.7951\n",
            " Val Loss: 0.5439 Acc: 0.8117\n",
            "Epoch 2/2\n",
            "----------\n",
            "Train Loss: 0.5688 Acc: 0.8021\n",
            " Val Loss: 0.5361 Acc: 0.8135\n",
            "\n",
            "Best val Acc: 0.813500\n"
          ]
        }
      ],
      "source": [
        "resnet_teacher = train_and_evaluate(resnet,trainloader,\n",
        "                                   valloader,criterion,optimizer,\n",
        "                                   len_trainset,len_valset,3)"
      ]
    },
    {
      "cell_type": "markdown",
      "source": [
        "##**Part B**##"
      ],
      "metadata": {
        "id": "eVPnk4Ftq2LU"
      }
    },
    {
      "cell_type": "code",
      "execution_count": null,
      "metadata": {
        "id": "JwaO26fy25xm"
      },
      "outputs": [],
      "source": [
        "net=  models.resnet18(pretrained=True).to(device)\n",
        "num_ftrs = net.fc.in_features\n",
        "net.fc = nn.Linear(num_ftrs, 10)\n",
        "net = net.to(device)"
      ]
    },
    {
      "cell_type": "code",
      "execution_count": null,
      "metadata": {
        "colab": {
          "base_uri": "https://localhost:8080/"
        },
        "id": "ul0YZzuD7hAW",
        "outputId": "33aa7851-8659-49e6-b74b-1ccc740adda9"
      },
      "outputs": [
        {
          "name": "stdout",
          "output_type": "stream",
          "text": [
            "torch.Size([64, 10])\n"
          ]
        }
      ],
      "source": [
        "dataiter = iter(trainloader)\n",
        "images, labels = next(dataiter)\n",
        "out = net(images.to(device))\n",
        "print(out.shape)"
      ]
    },
    {
      "cell_type": "code",
      "execution_count": 12,
      "metadata": {
        "id": "8B8iZPOv-TR1"
      },
      "outputs": [],
      "source": [
        "def loss_kd(outputs, labels, teacher_outputs, temparature, alpha):\n",
        "   KD_loss = nn.KLDivLoss()(F.log_softmax(outputs/temparature, dim=1),F.softmax(teacher_outputs/temparature,dim=1)) * (alpha * temparature * temparature) + F.cross_entropy(outputs, labels) * (1. - alpha)\n",
        "   return KD_loss\n",
        "def get_outputs(model, dataloader):\n",
        "   '''\n",
        "   Used to get the output of the teacher network\n",
        "   '''\n",
        "   outputs = []\n",
        "   for inputs, labels in dataloader:\n",
        "      inputs_batch, labels_batch = inputs.cuda(), labels.cuda()\n",
        "      output_batch = model(inputs_batch).data.cpu().numpy()\n",
        "      outputs.append(output_batch)\n",
        "   return outputs"
      ]
    },
    {
      "cell_type": "code",
      "execution_count": 11,
      "metadata": {
        "id": "YnOjNfHMhToq"
      },
      "outputs": [],
      "source": [
        "def train_kd(model,teacher_out, optimizer, loss_kd, dataloader, temparature, alpha):\n",
        "   model.train()\n",
        "   running_loss = 0.0\n",
        "   running_corrects = 0\n",
        "   for i,(images, labels) in enumerate(dataloader):\n",
        "      inputs = images.to(device)\n",
        "      labels = labels.to(device)\n",
        "      optimizer.zero_grad()\n",
        "      outputs = model(inputs)\n",
        "      outputs_teacher = torch.from_numpy(teacher_out[i]).to(device)\n",
        "      loss = loss_kd(outputs,labels,outputs_teacher,temparature, \n",
        "                     alpha)\n",
        "      _, preds = torch.max(outputs, 1)\n",
        "      loss.backward()\n",
        "      optimizer.step()\n",
        "      running_loss += loss.item() * inputs.size(0)\n",
        "      running_corrects += torch.sum(preds == labels.data)\n",
        "   \n",
        "   epoch_loss = running_loss / len(trainset)\n",
        "   epoch_acc = running_corrects.double() / len(trainset)\n",
        "   print('Train Loss: {:.4f} Acc: {:.4f}'.format(epoch_loss, epoch_acc))\n",
        "def eval_kd(model,teacher_out, optimizer, loss_kd, dataloader, temparature, alpha):\n",
        "   model.eval()\n",
        "   running_loss = 0.0\n",
        "   running_corrects = 0\n",
        "   for i,(images, labels) in enumerate(dataloader):\n",
        "      inputs = images.to(device)\n",
        "      labels = labels.to(device)\n",
        "      outputs = model(inputs)\n",
        "      outputs_teacher = torch.from_numpy(teacher_out[i]).cuda()\n",
        "      loss = loss_kd(outputs,labels,outputs_teacher,temparature, \n",
        "                     alpha)\n",
        "      _, preds = torch.max(outputs, 1)\n",
        "      running_loss += loss.item() * inputs.size(0)\n",
        "      running_corrects += torch.sum(preds == labels.data)\n",
        "   epoch_loss = running_loss / len(valset)\n",
        "   epoch_acc = running_corrects.double() / len(valset)\n",
        "   print('Val Loss: {:.4f} Acc: {:.4f}'.format(epoch_loss,\n",
        "          epoch_acc))\n",
        "   return epoch_acc\n",
        "def train_and_evaluate_kd(model, teacher_model, optimizer, loss_kd, trainloader, valloader, temparature, alpha, num_epochs=25):\n",
        "   teacher_model.eval()\n",
        "   best_model_wts = copy.deepcopy(model.state_dict())\n",
        "   outputs_teacher_train = get_outputs(teacher_model, trainloader)\n",
        "   outputs_teacher_val = get_outputs(teacher_model, valloader)\n",
        "   print(\"Teacher’s outputs are computed now starting the training process-\")\n",
        "   best_acc = 0.0\n",
        "   for epoch in range(num_epochs):\n",
        "      print('Epoch {}/{}'.format(epoch, num_epochs -1))\n",
        "      print('-' * 10)\n",
        "      \n",
        "      # Training the student with the soft labes as the outputs from the teacher and using the loss_kd function\n",
        "      train_kd(model, outputs_teacher_train, \n",
        "               optim.Adam(net.parameters()),loss_kd,trainloader, \n",
        "               temparature, alpha)\n",
        "     \n",
        "      # Evaluating the student network\n",
        "      epoch_acc_val = eval_kd(model, outputs_teacher_val, \n",
        "                          optim.Adam(net.parameters()), loss_kd, \n",
        "                          valloader, temparature, alpha)\n",
        "      if epoch_acc_val > best_acc:\n",
        "         best_acc = epoch_acc_val\n",
        "         best_model_wts = copy.deepcopy(model.state_dict())\n",
        "         print('Best val Acc: {:4f}'.format(best_acc))\n",
        "         model.load_state_dict(best_model_wts)\n",
        "   return model"
      ]
    },
    {
      "cell_type": "code",
      "execution_count": null,
      "metadata": {
        "colab": {
          "background_save": true
        },
        "id": "9pVLyzWnicaa",
        "outputId": "d9197ee9-691f-4f8a-a055-844ab9c51beb"
      },
      "outputs": [
        {
          "name": "stdout",
          "output_type": "stream",
          "text": [
            "Teacher’s outputs are computed now starting the training process-\n",
            "Epoch 0/2\n",
            "----------\n",
            "Train Loss: 0.4747 Acc: 0.8220\n",
            "Val Loss: 0.4345 Acc: 0.8501\n",
            "Best val Acc: 0.850100\n",
            "Epoch 1/2\n",
            "----------\n",
            "Train Loss: 0.3873 Acc: 0.8882\n",
            "Val Loss: 0.3993 Acc: 0.8779\n",
            "Best val Acc: 0.877900\n",
            "Epoch 2/2\n",
            "----------\n",
            "Train Loss: 0.3382 Acc: 0.9265\n",
            "Val Loss: 0.3692 Acc: 0.9006\n",
            "Best val Acc: 0.900600\n"
          ]
        }
      ],
      "source": [
        "stud=train_and_evaluate_kd(net,resnet_teacher,optim.Adam(net.parameters()),loss_kd,trainloader,valloader,1,0.5,3)"
      ]
    },
    {
      "cell_type": "code",
      "execution_count": null,
      "metadata": {
        "colab": {
          "base_uri": "https://localhost:8080/"
        },
        "id": "uKy450IKQY3q",
        "outputId": "0c80c129-95de-4a48-ede4-c2ab096f6f26"
      },
      "outputs": [
        {
          "name": "stdout",
          "output_type": "stream",
          "text": [
            "Teacher’s outputs are computed now starting the training process-\n",
            "Epoch 0/2\n",
            "----------\n"
          ]
        },
        {
          "name": "stderr",
          "output_type": "stream",
          "text": [
            "/usr/local/lib/python3.8/dist-packages/torch/nn/functional.py:2916: UserWarning: reduction: 'mean' divides the total loss by both the batch size and the support size.'batchmean' divides only by the batch size, and aligns with the KL div math definition.'mean' will be changed to behave the same as 'batchmean' in the next major release.\n",
            "  warnings.warn(\n"
          ]
        },
        {
          "name": "stdout",
          "output_type": "stream",
          "text": [
            "Train Loss: 0.3654 Acc: 0.8173\n",
            "Val Loss: 0.3918 Acc: 0.8021\n",
            "Best val Acc: 0.802100\n",
            "Epoch 1/2\n",
            "----------\n",
            "Train Loss: 0.2772 Acc: 0.8849\n",
            "Val Loss: 0.2887 Acc: 0.8738\n",
            "Best val Acc: 0.873800\n",
            "Epoch 2/2\n",
            "----------\n",
            "Train Loss: 0.2262 Acc: 0.9231\n",
            "Val Loss: 0.2842 Acc: 0.8764\n",
            "Best val Acc: 0.876400\n"
          ]
        }
      ],
      "source": [
        "stud=train_and_evaluate_kd(net,resnet_teacher,optim.Adam(net.parameters()),loss_kd,trainloader,valloader,0.5,0.5,3)"
      ]
    },
    {
      "cell_type": "code",
      "execution_count": null,
      "metadata": {
        "colab": {
          "base_uri": "https://localhost:8080/"
        },
        "id": "-zMZmu1yUHky",
        "outputId": "650d5359-c33e-4b7e-a44c-2783cbad9bd5"
      },
      "outputs": [
        {
          "name": "stdout",
          "output_type": "stream",
          "text": [
            "Teacher’s outputs are computed now starting the training process-\n",
            "Epoch 0/2\n",
            "----------\n",
            "Train Loss: 0.3297 Acc: 0.8181\n",
            "Val Loss: 0.2541 Acc: 0.8736\n",
            "Best val Acc: 0.873600\n",
            "Epoch 1/2\n",
            "----------\n",
            "Train Loss: 0.2388 Acc: 0.8835\n",
            "Val Loss: 0.2499 Acc: 0.8744\n",
            "Best val Acc: 0.874400\n",
            "Epoch 2/2\n",
            "----------\n",
            "Train Loss: 0.1854 Acc: 0.9227\n",
            "Val Loss: 0.2330 Acc: 0.8822\n",
            "Best val Acc: 0.882200\n"
          ]
        }
      ],
      "source": [
        "stud=train_and_evaluate_kd(net,resnet_teacher,optim.Adam(net.parameters()),loss_kd,trainloader,valloader,0.25,0.5,3)"
      ]
    },
    {
      "cell_type": "code",
      "execution_count": null,
      "metadata": {
        "colab": {
          "base_uri": "https://localhost:8080/"
        },
        "id": "LQz53_xcX0qc",
        "outputId": "bfa9c4b2-a7de-40ae-fee3-49cbcdb467d2"
      },
      "outputs": [
        {
          "name": "stdout",
          "output_type": "stream",
          "text": [
            "Teacher’s outputs are computed now starting the training process-\n",
            "Epoch 0/2\n",
            "----------\n",
            "Train Loss: 0.0077 Acc: 0.1021\n",
            "Val Loss: 0.0074 Acc: 0.1000\n",
            "Best val Acc: 0.100000\n",
            "Epoch 1/2\n",
            "----------\n",
            "Train Loss: 0.0075 Acc: 0.0998\n",
            "Val Loss: 0.0074 Acc: 0.0998\n",
            "Epoch 2/2\n",
            "----------\n",
            "Train Loss: 0.0075 Acc: 0.0988\n",
            "Val Loss: 0.0078 Acc: 0.1013\n",
            "Best val Acc: 0.101300\n"
          ]
        }
      ],
      "source": [
        "stud=train_and_evaluate_kd(net,resnet_teacher,optim.Adam(net.parameters()),loss_kd,trainloader,valloader,1,1,3)"
      ]
    },
    {
      "cell_type": "markdown",
      "source": [
        "Base on on our experiment the best high parameter is alpha = 0.5 and Temp=1"
      ],
      "metadata": {
        "id": "QZTkYHt0rYu_"
      }
    },
    {
      "cell_type": "markdown",
      "source": [
        "##**Part C with PyTyorch**##"
      ],
      "metadata": {
        "id": "Va4FglIUrQx1"
      }
    },
    {
      "cell_type": "code",
      "execution_count": null,
      "metadata": {
        "id": "4St_4zfCHmjj"
      },
      "outputs": [],
      "source": [
        "model2=  models.resnet18(pretrained=True).to(device)\n",
        "for param in model2.parameters():\n",
        "   param.requires_grad = False\n",
        "num_ftrs = model2.fc.in_features\n",
        "model2.fc = nn.Linear(num_ftrs, 10)\n",
        "model2 = model2.to(device)"
      ]
    },
    {
      "cell_type": "code",
      "execution_count": null,
      "metadata": {
        "colab": {
          "base_uri": "https://localhost:8080/"
        },
        "id": "PTN9qaVgHcHw",
        "outputId": "4895df26-3004-444e-82db-83b811e6eef8"
      },
      "outputs": [
        {
          "name": "stdout",
          "output_type": "stream",
          "text": [
            "Epoch 0/4\n",
            "----------\n",
            "Train Loss: 2.4450 Acc: 0.1082\n",
            " Val Loss: 2.4435 Acc: 0.1128\n",
            "Epoch 1/4\n",
            "----------\n",
            "Train Loss: 2.4442 Acc: 0.1090\n",
            " Val Loss: 2.4414 Acc: 0.1129\n",
            "Epoch 2/4\n",
            "----------\n",
            "Train Loss: 2.4444 Acc: 0.1095\n",
            " Val Loss: 2.4461 Acc: 0.1132\n",
            "Epoch 3/4\n",
            "----------\n",
            "Train Loss: 2.4443 Acc: 0.1092\n",
            " Val Loss: 2.4439 Acc: 0.1114\n",
            "Epoch 4/4\n",
            "----------\n",
            "Train Loss: 2.4442 Acc: 0.1085\n",
            " Val Loss: 2.4465 Acc: 0.1126\n",
            "\n",
            "Best val Acc: 0.113200\n"
          ]
        }
      ],
      "source": [
        "criterion = nn.CrossEntropyLoss()\n",
        "optimizer = optim.Adam(model2.fc.parameters())\n",
        "resnet_teacher = train_and_evaluate(model2,trainloader,\n",
        "                                   valloader,criterion,optimizer,\n",
        "                                   len_trainset,len_valset,5)"
      ]
    },
    {
      "cell_type": "markdown",
      "source": [
        "##**Part D**##"
      ],
      "metadata": {
        "id": "AIdHwd6UrxcV"
      }
    },
    {
      "cell_type": "markdown",
      "source": [
        "\n",
        "It can be seen that the percentage is slightly improved. The initial weights of the resnet network are a good starting point, but they are not necessarily the optimal points for our dataset. By training the network from the initial layers, we find the best weights, and as a result, we will have a better percentage of accuracy at the end."
      ],
      "metadata": {
        "id": "KF5OgDMrsssb"
      }
    },
    {
      "cell_type": "code",
      "execution_count": 27,
      "metadata": {
        "id": "o1FpZ0ttvKIC"
      },
      "outputs": [],
      "source": [
        "resnet_all = models.resnet50(pretrained=False)\n",
        "for param in resnet_all.parameters():\n",
        "   param.requires_grad = False\n",
        "num_ftrs = resnet_all.fc.in_features\n",
        "resnet_all.fc = nn.Linear(num_ftrs, 10)\n",
        "resnet_all = resnet_all.to(device)\n",
        "criterion = nn.CrossEntropyLoss()\n",
        "optimizer = optim.Adam(resnet_all.fc.parameters())"
      ]
    },
    {
      "cell_type": "code",
      "execution_count": 7,
      "metadata": {
        "colab": {
          "base_uri": "https://localhost:8080/"
        },
        "id": "u4dhrr2xvgIa",
        "outputId": "8897009b-cf1d-4daa-fd7c-2c1cfc05bfe8"
      },
      "outputs": [
        {
          "output_type": "stream",
          "name": "stdout",
          "text": [
            "Epoch 0/14\n",
            "----------\n",
            "Train Loss: 2.2901 Acc: 0.1671\n",
            " Val Loss: 2.2305 Acc: 0.1964\n",
            "Epoch 1/14\n",
            "----------\n",
            "Train Loss: 2.1606 Acc: 0.2154\n",
            " Val Loss: 2.0537 Acc: 0.2362\n",
            "Epoch 2/14\n",
            "----------\n",
            "Train Loss: 2.1114 Acc: 0.2333\n",
            " Val Loss: 2.1394 Acc: 0.2151\n",
            "Epoch 3/14\n",
            "----------\n",
            "Train Loss: 2.0914 Acc: 0.2437\n",
            " Val Loss: 2.1046 Acc: 0.2547\n",
            "Epoch 4/14\n",
            "----------\n",
            "Train Loss: 2.0669 Acc: 0.2543\n",
            " Val Loss: 2.1339 Acc: 0.2287\n",
            "Epoch 5/14\n",
            "----------\n",
            "Train Loss: 2.0466 Acc: 0.2617\n",
            " Val Loss: 1.9516 Acc: 0.2920\n",
            "Epoch 6/14\n",
            "----------\n",
            "Train Loss: 2.0333 Acc: 0.2656\n",
            " Val Loss: 1.9882 Acc: 0.2844\n",
            "Epoch 7/14\n",
            "----------\n",
            "Train Loss: 2.0248 Acc: 0.2702\n",
            " Val Loss: 1.9898 Acc: 0.2628\n",
            "Epoch 8/14\n",
            "----------\n",
            "Train Loss: 2.0165 Acc: 0.2763\n",
            " Val Loss: 2.1274 Acc: 0.2611\n",
            "Epoch 9/14\n",
            "----------\n",
            "Train Loss: 2.0155 Acc: 0.2772\n",
            " Val Loss: 1.9349 Acc: 0.3147\n",
            "Epoch 10/14\n",
            "----------\n",
            "Train Loss: 2.0017 Acc: 0.2825\n",
            " Val Loss: 2.0316 Acc: 0.2817\n",
            "Epoch 11/14\n",
            "----------\n",
            "Train Loss: 2.0075 Acc: 0.2820\n",
            " Val Loss: 2.0669 Acc: 0.2606\n",
            "Epoch 12/14\n",
            "----------\n",
            "Train Loss: 1.9802 Acc: 0.2877\n",
            " Val Loss: 1.9762 Acc: 0.2956\n",
            "Epoch 13/14\n",
            "----------\n",
            "Train Loss: 1.9954 Acc: 0.2863\n",
            " Val Loss: 1.8989 Acc: 0.3127\n",
            "Epoch 14/14\n",
            "----------\n",
            "Train Loss: 1.9805 Acc: 0.2881\n",
            " Val Loss: 2.1702 Acc: 0.2753\n",
            "\n",
            "Best val Acc: 0.314700\n"
          ]
        }
      ],
      "source": [
        "resnet_teacher_all = train_and_evaluate(resnet_all,trainloader,\n",
        "                                   valloader,criterion,optimizer,\n",
        "                                   len_trainset,len_valset,15)"
      ]
    },
    {
      "cell_type": "code",
      "execution_count": 16,
      "metadata": {
        "id": "J2SnDtkVi-dx"
      },
      "outputs": [],
      "source": [
        "net=  models.resnet18(pretrained=True).to(device)\n",
        "num_ftrs = net.fc.in_features\n",
        "net.fc = nn.Linear(num_ftrs, 10)\n",
        "net = net.to(device)"
      ]
    },
    {
      "cell_type": "code",
      "execution_count": 17,
      "metadata": {
        "colab": {
          "base_uri": "https://localhost:8080/"
        },
        "id": "jihJ6n7qjGEw",
        "outputId": "504f907b-6010-40f5-b9da-863650173663"
      },
      "outputs": [
        {
          "output_type": "stream",
          "name": "stdout",
          "text": [
            "Teacher’s outputs are computed now starting the training process-\n",
            "Epoch 0/4\n",
            "----------\n"
          ]
        },
        {
          "output_type": "stream",
          "name": "stderr",
          "text": [
            "/usr/local/lib/python3.8/dist-packages/torch/nn/functional.py:2916: UserWarning: reduction: 'mean' divides the total loss by both the batch size and the support size.'batchmean' divides only by the batch size, and aligns with the KL div math definition.'mean' will be changed to behave the same as 'batchmean' in the next major release.\n",
            "  warnings.warn(\n"
          ]
        },
        {
          "output_type": "stream",
          "name": "stdout",
          "text": [
            "Train Loss: 0.4031 Acc: 0.8250\n",
            "Val Loss: 0.3581 Acc: 0.8541\n",
            "Best val Acc: 0.854100\n",
            "Epoch 1/4\n",
            "----------\n",
            "Train Loss: 0.3194 Acc: 0.8885\n",
            "Val Loss: 0.3109 Acc: 0.8933\n",
            "Best val Acc: 0.893300\n",
            "Epoch 2/4\n",
            "----------\n",
            "Train Loss: 0.2685 Acc: 0.9267\n",
            "Val Loss: 0.2925 Acc: 0.9049\n",
            "Best val Acc: 0.904900\n",
            "Epoch 3/4\n",
            "----------\n",
            "Train Loss: 0.2332 Acc: 0.9539\n",
            "Val Loss: 0.2875 Acc: 0.9071\n",
            "Best val Acc: 0.907100\n",
            "Epoch 4/4\n",
            "----------\n",
            "Train Loss: 0.2125 Acc: 0.9682\n",
            "Val Loss: 0.2845 Acc: 0.9099\n",
            "Best val Acc: 0.909900\n"
          ]
        }
      ],
      "source": [
        "stud=train_and_evaluate_kd(net,resnet_teacher_all,optim.Adam(net.parameters()),loss_kd,trainloader,valloader,1,0.5,5)"
      ]
    },
    {
      "cell_type": "markdown",
      "source": [
        "##**Part C with Tensorflow**##"
      ],
      "metadata": {
        "id": "rI8redybr6T6"
      }
    },
    {
      "cell_type": "markdown",
      "source": [
        "As can be seen, there are several advantages of this knowledge distillation process: Using a lighter model. Less compute requirements and superior performance under stringent production constraints. Better accuracy than stand-alone model. Distillation enables us to train another neural network using a pre-trained network, without the dead weight of the original neural network. Enabling us to compress the size of the network without much loss of accuracy. Hence distilled models have higher accuracies than their normally trained counterparts."
      ],
      "metadata": {
        "id": "v77taPlKtItY"
      }
    },
    {
      "cell_type": "code",
      "source": [
        "import numpy as np\n",
        "import pandas as pd\n",
        "import matplotlib.pyplot as plt\n",
        "import tensorflow as tf\n",
        "import keras\n",
        "from tensorflow.keras import datasets,models,layers\n",
        "from keras.datasets import cifar10\n",
        "(X_train, Y_train), (X_test, Y_test) = cifar10.load_data()\n",
        "X_train = X_train.astype('float32')\n",
        "X_test = X_test.astype('float32')\n",
        "X_train /= 255.0\n",
        "X_test /= 255.0\n",
        "from sklearn.model_selection import train_test_split\n",
        "X_train, X_val, Y_train, Y_val = train_test_split(X_train, Y_train, test_size = 0.2,shuffle = True)\n",
        "from sklearn.preprocessing import OneHotEncoder\n",
        "encoder = OneHotEncoder()\n",
        "encoder.fit(Y_train)\n",
        "Y_train = encoder.transform(Y_train).toarray()\n",
        "Y_test = encoder.transform(Y_test).toarray()\n",
        "Y_val =  encoder.transform(Y_val).toarray()\n",
        "from keras.preprocessing.image import ImageDataGenerator\n",
        "aug = ImageDataGenerator(horizontal_flip=True, width_shift_range=0.05,\n",
        "                             height_shift_range=0.05)\n",
        "aug.fit(X_train)"
      ],
      "metadata": {
        "colab": {
          "base_uri": "https://localhost:8080/"
        },
        "id": "jWpGytbskbPb",
        "outputId": "f8eabb64-dd9c-4800-820d-d9e2a2bcdafa"
      },
      "execution_count": 29,
      "outputs": [
        {
          "output_type": "stream",
          "name": "stdout",
          "text": [
            "Downloading data from https://www.cs.toronto.edu/~kriz/cifar-10-python.tar.gz\n",
            "170498071/170498071 [==============================] - 13s 0us/step\n"
          ]
        }
      ]
    },
    {
      "cell_type": "code",
      "source": [
        "from keras.callbacks import EarlyStopping\n",
        "from keras.layers import Dense, Conv2D,  MaxPool2D, Flatten, GlobalAveragePooling2D,  BatchNormalization, Layer, Add\n",
        "from keras.models import Sequential\n",
        "from keras.models import Model\n",
        "import tensorflow as tf\n",
        "\n",
        "\n",
        "class ResnetBlock(Model):\n",
        "    \"\"\"\n",
        "    A standard resnet block.\n",
        "    \"\"\"\n",
        "\n",
        "    def __init__(self, channels: int, down_sample=False):\n",
        "        \"\"\"\n",
        "        channels: same as number of convolution kernels\n",
        "        \"\"\"\n",
        "        super().__init__()\n",
        "\n",
        "        self.__channels = channels\n",
        "        self.__down_sample = down_sample\n",
        "        self.__strides = [2, 1] if down_sample else [1, 1]\n",
        "\n",
        "        KERNEL_SIZE = (3, 3)\n",
        "        # use He initialization, instead of Xavier (a.k.a 'glorot_uniform' in Keras), as suggested in [2]\n",
        "        INIT_SCHEME = \"he_normal\"\n",
        "\n",
        "        self.conv_1 = Conv2D(self.__channels, strides=self.__strides[0],\n",
        "                             kernel_size=KERNEL_SIZE, padding=\"same\", kernel_initializer=INIT_SCHEME)\n",
        "        self.bn_1 = BatchNormalization()\n",
        "        self.conv_2 = Conv2D(self.__channels, strides=self.__strides[1],\n",
        "                             kernel_size=KERNEL_SIZE, padding=\"same\", kernel_initializer=INIT_SCHEME)\n",
        "        self.bn_2 = BatchNormalization()\n",
        "        self.merge = Add()\n",
        "\n",
        "        if self.__down_sample:\n",
        "            # perform down sampling using stride of 2, according to [1].\n",
        "            self.res_conv = Conv2D(\n",
        "                self.__channels, strides=2, kernel_size=(1, 1), kernel_initializer=INIT_SCHEME, padding=\"same\")\n",
        "            self.res_bn = BatchNormalization()\n",
        "\n",
        "    def call(self, inputs):\n",
        "        res = inputs\n",
        "\n",
        "        x = self.conv_1(inputs)\n",
        "        x = self.bn_1(x)\n",
        "        x = tf.nn.relu(x)\n",
        "        x = self.conv_2(x)\n",
        "        x = self.bn_2(x)\n",
        "\n",
        "        if self.__down_sample:\n",
        "            res = self.res_conv(res)\n",
        "            res = self.res_bn(res)\n",
        "\n",
        "        # if not perform down sample, then add a shortcut directly\n",
        "        x = self.merge([x, res])\n",
        "        out = tf.nn.relu(x)\n",
        "        return out"
      ],
      "metadata": {
        "id": "M9riGyDdk98A"
      },
      "execution_count": 34,
      "outputs": []
    },
    {
      "cell_type": "code",
      "source": [
        "class ResNet18(Model):\n",
        "\n",
        "    def __init__(self, num_classes, **kwargs):\n",
        "        \"\"\"\n",
        "            num_classes: number of classes in specific classification task.\n",
        "        \"\"\"\n",
        "        super().__init__(**kwargs)\n",
        "        self.conv_1 = Conv2D(64, (7, 7), strides=2,\n",
        "                             padding=\"same\", kernel_initializer=\"he_normal\")\n",
        "        self.init_bn = BatchNormalization()\n",
        "        self.pool_2 = MaxPool2D(pool_size=(2, 2), strides=2, padding=\"same\")\n",
        "        self.res_1_1 = ResnetBlock(64)\n",
        "        self.res_1_2 = ResnetBlock(64)\n",
        "        self.res_2_1 = ResnetBlock(128, down_sample=True)\n",
        "        self.res_2_2 = ResnetBlock(128)\n",
        "        self.res_3_1 = ResnetBlock(256, down_sample=True)\n",
        "        self.res_3_2 = ResnetBlock(256)\n",
        "        self.res_4_1 = ResnetBlock(512, down_sample=True)\n",
        "        self.res_4_2 = ResnetBlock(512)\n",
        "        self.avg_pool = GlobalAveragePooling2D()\n",
        "        self.flat = Flatten()\n",
        "        self.fc = Dense(num_classes, activation=\"softmax\")\n",
        "\n",
        "    def call(self, inputs):\n",
        "        out = self.conv_1(inputs)\n",
        "        out = self.init_bn(out)\n",
        "        out = tf.nn.relu(out)\n",
        "        out = self.pool_2(out)\n",
        "        for res_block in [self.res_1_1, self.res_1_2, self.res_2_1, self.res_2_2, self.res_3_1, self.res_3_2, self.res_4_1, self.res_4_2]:\n",
        "            out = res_block(out)\n",
        "        out = self.avg_pool(out)\n",
        "        out = self.flat(out)\n",
        "        out = self.fc(out)\n",
        "        return out"
      ],
      "metadata": {
        "id": "XYf_6eGhlIu5"
      },
      "execution_count": 31,
      "outputs": []
    },
    {
      "cell_type": "code",
      "source": [
        "model = ResNet18(10)\n",
        "model.build(input_shape = (None,32,32,3))\n",
        "#use categorical_crossentropy since the label is one-hot encoded\n",
        "from keras.optimizers import SGD\n",
        "# opt = SGD(learning_rate=0.1,momentum=0.9,decay = 1e-04) #parameters suggested by He [1]\n",
        "model.compile(optimizer = \"adam\",loss='categorical_crossentropy', metrics=[\"accuracy\"])"
      ],
      "metadata": {
        "colab": {
          "base_uri": "https://localhost:8080/"
        },
        "id": "tIc871eClL4U",
        "outputId": "35c53ae0-c3c7-45bc-acd7-60f5c7dde695"
      },
      "execution_count": 35,
      "outputs": [
        {
          "output_type": "stream",
          "name": "stderr",
          "text": [
            "WARNING:tensorflow:AutoGraph could not transform <bound method ResnetBlock.call of <__main__.ResnetBlock object at 0x7f64c9787b50>> and will run it as-is.\n",
            "Cause: mangled names are not yet supported\n",
            "To silence this warning, decorate the function with @tf.autograph.experimental.do_not_convert\n"
          ]
        },
        {
          "output_type": "stream",
          "name": "stdout",
          "text": [
            "WARNING: AutoGraph could not transform <bound method ResnetBlock.call of <__main__.ResnetBlock object at 0x7f64c9787b50>> and will run it as-is.\n",
            "Cause: mangled names are not yet supported\n",
            "To silence this warning, decorate the function with @tf.autograph.experimental.do_not_convert\n"
          ]
        }
      ]
    },
    {
      "cell_type": "code",
      "source": [
        "from keras.callbacks import EarlyStopping\n",
        "\n",
        "es = EarlyStopping(patience= 8, restore_best_weights=True, monitor=\"val_acc\")\n",
        "#I did not use cross validation, so the validate performance is not accurate.\n",
        "STEPS = len(X_train) / 256\n",
        "history = model.fit(aug.flow(X_train,Y_train,batch_size = 256), steps_per_epoch=STEPS, batch_size = 256, epochs=3, validation_data=(X_train, Y_train),callbacks=[es])"
      ],
      "metadata": {
        "colab": {
          "base_uri": "https://localhost:8080/"
        },
        "id": "tArrMtktlPbp",
        "outputId": "212de18f-36b5-4594-f55c-0d6357741dc6"
      },
      "execution_count": 36,
      "outputs": [
        {
          "output_type": "stream",
          "name": "stdout",
          "text": [
            "Epoch 1/3\n",
            "157/156 [==============================] - ETA: 0s - loss: 1.6097 - accuracy: 0.4371"
          ]
        },
        {
          "output_type": "stream",
          "name": "stderr",
          "text": [
            "WARNING:tensorflow:Early stopping conditioned on metric `val_acc` which is not available. Available metrics are: loss,accuracy,val_loss,val_accuracy\n"
          ]
        },
        {
          "output_type": "stream",
          "name": "stdout",
          "text": [
            "\b\b\b\b\b\b\b\b\b\b\b\b\b\b\b\b\b\b\b\b\b\b\b\b\b\b\b\b\b\b\b\b\b\b\b\b\b\b\b\b\b\b\b\b\b\b\b\b\b\b\b\b\b\b\b\b\b\b\b\b\b\b\b\b\b\b\b\b\b\b\b\b\b\b\b\b\b\b\b\b\b\b\b\b\r156/156 [==============================] - 25s 143ms/step - loss: 1.6097 - accuracy: 0.4371 - val_loss: 1.9364 - val_accuracy: 0.3444\n",
            "Epoch 2/3\n",
            "157/156 [==============================] - ETA: 0s - loss: 1.2258 - accuracy: 0.5623"
          ]
        },
        {
          "output_type": "stream",
          "name": "stderr",
          "text": [
            "WARNING:tensorflow:Early stopping conditioned on metric `val_acc` which is not available. Available metrics are: loss,accuracy,val_loss,val_accuracy\n"
          ]
        },
        {
          "output_type": "stream",
          "name": "stdout",
          "text": [
            "\b\b\b\b\b\b\b\b\b\b\b\b\b\b\b\b\b\b\b\b\b\b\b\b\b\b\b\b\b\b\b\b\b\b\b\b\b\b\b\b\b\b\b\b\b\b\b\b\b\b\b\b\b\b\b\b\b\b\b\b\b\b\b\b\b\b\b\b\b\b\b\b\b\b\b\b\b\b\b\b\b\b\b\b\r156/156 [==============================] - 21s 131ms/step - loss: 1.2258 - accuracy: 0.5623 - val_loss: 1.3428 - val_accuracy: 0.5257\n",
            "Epoch 3/3\n",
            "157/156 [==============================] - ETA: 0s - loss: 1.0696 - accuracy: 0.6181"
          ]
        },
        {
          "output_type": "stream",
          "name": "stderr",
          "text": [
            "WARNING:tensorflow:Early stopping conditioned on metric `val_acc` which is not available. Available metrics are: loss,accuracy,val_loss,val_accuracy\n"
          ]
        },
        {
          "output_type": "stream",
          "name": "stdout",
          "text": [
            "\b\b\b\b\b\b\b\b\b\b\b\b\b\b\b\b\b\b\b\b\b\b\b\b\b\b\b\b\b\b\b\b\b\b\b\b\b\b\b\b\b\b\b\b\b\b\b\b\b\b\b\b\b\b\b\b\b\b\b\b\b\b\b\b\b\b\b\b\b\b\b\b\b\b\b\b\b\b\b\b\b\b\b\b\r156/156 [==============================] - 21s 136ms/step - loss: 1.0696 - accuracy: 0.6181 - val_loss: 1.1319 - val_accuracy: 0.6018\n"
          ]
        }
      ]
    }
  ],
  "metadata": {
    "accelerator": "GPU",
    "colab": {
      "provenance": [],
      "include_colab_link": true
    },
    "gpuClass": "standard",
    "kernelspec": {
      "display_name": "Python 3",
      "name": "python3"
    },
    "language_info": {
      "name": "python"
    },
    "widgets": {
      "application/vnd.jupyter.widget-state+json": {
        "19cb82117332418793e9dfc23ebd07d4": {
          "model_module": "@jupyter-widgets/controls",
          "model_name": "HBoxModel",
          "model_module_version": "1.5.0",
          "state": {
            "_dom_classes": [],
            "_model_module": "@jupyter-widgets/controls",
            "_model_module_version": "1.5.0",
            "_model_name": "HBoxModel",
            "_view_count": null,
            "_view_module": "@jupyter-widgets/controls",
            "_view_module_version": "1.5.0",
            "_view_name": "HBoxView",
            "box_style": "",
            "children": [
              "IPY_MODEL_9de84f5c0e3f4681b11fc99ed5ca6177",
              "IPY_MODEL_d01390f5a96c4ef181faeb75ac8527e4",
              "IPY_MODEL_bd85255c054546a69c232c9c366ed54e"
            ],
            "layout": "IPY_MODEL_48e9dd3874a044d4bc64a38363e398f7"
          }
        },
        "9de84f5c0e3f4681b11fc99ed5ca6177": {
          "model_module": "@jupyter-widgets/controls",
          "model_name": "HTMLModel",
          "model_module_version": "1.5.0",
          "state": {
            "_dom_classes": [],
            "_model_module": "@jupyter-widgets/controls",
            "_model_module_version": "1.5.0",
            "_model_name": "HTMLModel",
            "_view_count": null,
            "_view_module": "@jupyter-widgets/controls",
            "_view_module_version": "1.5.0",
            "_view_name": "HTMLView",
            "description": "",
            "description_tooltip": null,
            "layout": "IPY_MODEL_9ab7da77ff0841b9835c939be3615f86",
            "placeholder": "​",
            "style": "IPY_MODEL_f9a21e6862ca4e2fac1350f4d3a2fcfc",
            "value": "100%"
          }
        },
        "d01390f5a96c4ef181faeb75ac8527e4": {
          "model_module": "@jupyter-widgets/controls",
          "model_name": "FloatProgressModel",
          "model_module_version": "1.5.0",
          "state": {
            "_dom_classes": [],
            "_model_module": "@jupyter-widgets/controls",
            "_model_module_version": "1.5.0",
            "_model_name": "FloatProgressModel",
            "_view_count": null,
            "_view_module": "@jupyter-widgets/controls",
            "_view_module_version": "1.5.0",
            "_view_name": "ProgressView",
            "bar_style": "success",
            "description": "",
            "description_tooltip": null,
            "layout": "IPY_MODEL_60ec34786b76431c94fc7eb9cfb2f05e",
            "max": 170498071,
            "min": 0,
            "orientation": "horizontal",
            "style": "IPY_MODEL_81222434eb7d42d386bf2d809adcb139",
            "value": 170498071
          }
        },
        "bd85255c054546a69c232c9c366ed54e": {
          "model_module": "@jupyter-widgets/controls",
          "model_name": "HTMLModel",
          "model_module_version": "1.5.0",
          "state": {
            "_dom_classes": [],
            "_model_module": "@jupyter-widgets/controls",
            "_model_module_version": "1.5.0",
            "_model_name": "HTMLModel",
            "_view_count": null,
            "_view_module": "@jupyter-widgets/controls",
            "_view_module_version": "1.5.0",
            "_view_name": "HTMLView",
            "description": "",
            "description_tooltip": null,
            "layout": "IPY_MODEL_f87b5d614fd74e3abdfdfe678da38e92",
            "placeholder": "​",
            "style": "IPY_MODEL_302474d78c4c451f9f259d3455b4ec17",
            "value": " 170498071/170498071 [00:13&lt;00:00, 14587404.75it/s]"
          }
        },
        "48e9dd3874a044d4bc64a38363e398f7": {
          "model_module": "@jupyter-widgets/base",
          "model_name": "LayoutModel",
          "model_module_version": "1.2.0",
          "state": {
            "_model_module": "@jupyter-widgets/base",
            "_model_module_version": "1.2.0",
            "_model_name": "LayoutModel",
            "_view_count": null,
            "_view_module": "@jupyter-widgets/base",
            "_view_module_version": "1.2.0",
            "_view_name": "LayoutView",
            "align_content": null,
            "align_items": null,
            "align_self": null,
            "border": null,
            "bottom": null,
            "display": null,
            "flex": null,
            "flex_flow": null,
            "grid_area": null,
            "grid_auto_columns": null,
            "grid_auto_flow": null,
            "grid_auto_rows": null,
            "grid_column": null,
            "grid_gap": null,
            "grid_row": null,
            "grid_template_areas": null,
            "grid_template_columns": null,
            "grid_template_rows": null,
            "height": null,
            "justify_content": null,
            "justify_items": null,
            "left": null,
            "margin": null,
            "max_height": null,
            "max_width": null,
            "min_height": null,
            "min_width": null,
            "object_fit": null,
            "object_position": null,
            "order": null,
            "overflow": null,
            "overflow_x": null,
            "overflow_y": null,
            "padding": null,
            "right": null,
            "top": null,
            "visibility": null,
            "width": null
          }
        },
        "9ab7da77ff0841b9835c939be3615f86": {
          "model_module": "@jupyter-widgets/base",
          "model_name": "LayoutModel",
          "model_module_version": "1.2.0",
          "state": {
            "_model_module": "@jupyter-widgets/base",
            "_model_module_version": "1.2.0",
            "_model_name": "LayoutModel",
            "_view_count": null,
            "_view_module": "@jupyter-widgets/base",
            "_view_module_version": "1.2.0",
            "_view_name": "LayoutView",
            "align_content": null,
            "align_items": null,
            "align_self": null,
            "border": null,
            "bottom": null,
            "display": null,
            "flex": null,
            "flex_flow": null,
            "grid_area": null,
            "grid_auto_columns": null,
            "grid_auto_flow": null,
            "grid_auto_rows": null,
            "grid_column": null,
            "grid_gap": null,
            "grid_row": null,
            "grid_template_areas": null,
            "grid_template_columns": null,
            "grid_template_rows": null,
            "height": null,
            "justify_content": null,
            "justify_items": null,
            "left": null,
            "margin": null,
            "max_height": null,
            "max_width": null,
            "min_height": null,
            "min_width": null,
            "object_fit": null,
            "object_position": null,
            "order": null,
            "overflow": null,
            "overflow_x": null,
            "overflow_y": null,
            "padding": null,
            "right": null,
            "top": null,
            "visibility": null,
            "width": null
          }
        },
        "f9a21e6862ca4e2fac1350f4d3a2fcfc": {
          "model_module": "@jupyter-widgets/controls",
          "model_name": "DescriptionStyleModel",
          "model_module_version": "1.5.0",
          "state": {
            "_model_module": "@jupyter-widgets/controls",
            "_model_module_version": "1.5.0",
            "_model_name": "DescriptionStyleModel",
            "_view_count": null,
            "_view_module": "@jupyter-widgets/base",
            "_view_module_version": "1.2.0",
            "_view_name": "StyleView",
            "description_width": ""
          }
        },
        "60ec34786b76431c94fc7eb9cfb2f05e": {
          "model_module": "@jupyter-widgets/base",
          "model_name": "LayoutModel",
          "model_module_version": "1.2.0",
          "state": {
            "_model_module": "@jupyter-widgets/base",
            "_model_module_version": "1.2.0",
            "_model_name": "LayoutModel",
            "_view_count": null,
            "_view_module": "@jupyter-widgets/base",
            "_view_module_version": "1.2.0",
            "_view_name": "LayoutView",
            "align_content": null,
            "align_items": null,
            "align_self": null,
            "border": null,
            "bottom": null,
            "display": null,
            "flex": null,
            "flex_flow": null,
            "grid_area": null,
            "grid_auto_columns": null,
            "grid_auto_flow": null,
            "grid_auto_rows": null,
            "grid_column": null,
            "grid_gap": null,
            "grid_row": null,
            "grid_template_areas": null,
            "grid_template_columns": null,
            "grid_template_rows": null,
            "height": null,
            "justify_content": null,
            "justify_items": null,
            "left": null,
            "margin": null,
            "max_height": null,
            "max_width": null,
            "min_height": null,
            "min_width": null,
            "object_fit": null,
            "object_position": null,
            "order": null,
            "overflow": null,
            "overflow_x": null,
            "overflow_y": null,
            "padding": null,
            "right": null,
            "top": null,
            "visibility": null,
            "width": null
          }
        },
        "81222434eb7d42d386bf2d809adcb139": {
          "model_module": "@jupyter-widgets/controls",
          "model_name": "ProgressStyleModel",
          "model_module_version": "1.5.0",
          "state": {
            "_model_module": "@jupyter-widgets/controls",
            "_model_module_version": "1.5.0",
            "_model_name": "ProgressStyleModel",
            "_view_count": null,
            "_view_module": "@jupyter-widgets/base",
            "_view_module_version": "1.2.0",
            "_view_name": "StyleView",
            "bar_color": null,
            "description_width": ""
          }
        },
        "f87b5d614fd74e3abdfdfe678da38e92": {
          "model_module": "@jupyter-widgets/base",
          "model_name": "LayoutModel",
          "model_module_version": "1.2.0",
          "state": {
            "_model_module": "@jupyter-widgets/base",
            "_model_module_version": "1.2.0",
            "_model_name": "LayoutModel",
            "_view_count": null,
            "_view_module": "@jupyter-widgets/base",
            "_view_module_version": "1.2.0",
            "_view_name": "LayoutView",
            "align_content": null,
            "align_items": null,
            "align_self": null,
            "border": null,
            "bottom": null,
            "display": null,
            "flex": null,
            "flex_flow": null,
            "grid_area": null,
            "grid_auto_columns": null,
            "grid_auto_flow": null,
            "grid_auto_rows": null,
            "grid_column": null,
            "grid_gap": null,
            "grid_row": null,
            "grid_template_areas": null,
            "grid_template_columns": null,
            "grid_template_rows": null,
            "height": null,
            "justify_content": null,
            "justify_items": null,
            "left": null,
            "margin": null,
            "max_height": null,
            "max_width": null,
            "min_height": null,
            "min_width": null,
            "object_fit": null,
            "object_position": null,
            "order": null,
            "overflow": null,
            "overflow_x": null,
            "overflow_y": null,
            "padding": null,
            "right": null,
            "top": null,
            "visibility": null,
            "width": null
          }
        },
        "302474d78c4c451f9f259d3455b4ec17": {
          "model_module": "@jupyter-widgets/controls",
          "model_name": "DescriptionStyleModel",
          "model_module_version": "1.5.0",
          "state": {
            "_model_module": "@jupyter-widgets/controls",
            "_model_module_version": "1.5.0",
            "_model_name": "DescriptionStyleModel",
            "_view_count": null,
            "_view_module": "@jupyter-widgets/base",
            "_view_module_version": "1.2.0",
            "_view_name": "StyleView",
            "description_width": ""
          }
        },
        "e93964f9d3dc4b3eac8161917ca5613b": {
          "model_module": "@jupyter-widgets/controls",
          "model_name": "HBoxModel",
          "model_module_version": "1.5.0",
          "state": {
            "_dom_classes": [],
            "_model_module": "@jupyter-widgets/controls",
            "_model_module_version": "1.5.0",
            "_model_name": "HBoxModel",
            "_view_count": null,
            "_view_module": "@jupyter-widgets/controls",
            "_view_module_version": "1.5.0",
            "_view_name": "HBoxView",
            "box_style": "",
            "children": [
              "IPY_MODEL_e14b614f20884da48cf745d05c9a0f90",
              "IPY_MODEL_ae8cc98d7d634a9788fa790b23f553aa",
              "IPY_MODEL_43e23a30f87f48a0865c84579b945844"
            ],
            "layout": "IPY_MODEL_91d1f286d5e243ccbfddf787f8a11b8f"
          }
        },
        "e14b614f20884da48cf745d05c9a0f90": {
          "model_module": "@jupyter-widgets/controls",
          "model_name": "HTMLModel",
          "model_module_version": "1.5.0",
          "state": {
            "_dom_classes": [],
            "_model_module": "@jupyter-widgets/controls",
            "_model_module_version": "1.5.0",
            "_model_name": "HTMLModel",
            "_view_count": null,
            "_view_module": "@jupyter-widgets/controls",
            "_view_module_version": "1.5.0",
            "_view_name": "HTMLView",
            "description": "",
            "description_tooltip": null,
            "layout": "IPY_MODEL_4be9125ee2964baab088bb1c99bd76f7",
            "placeholder": "​",
            "style": "IPY_MODEL_7d2e2d2a61894f208ce93d53a9521986",
            "value": "100%"
          }
        },
        "ae8cc98d7d634a9788fa790b23f553aa": {
          "model_module": "@jupyter-widgets/controls",
          "model_name": "FloatProgressModel",
          "model_module_version": "1.5.0",
          "state": {
            "_dom_classes": [],
            "_model_module": "@jupyter-widgets/controls",
            "_model_module_version": "1.5.0",
            "_model_name": "FloatProgressModel",
            "_view_count": null,
            "_view_module": "@jupyter-widgets/controls",
            "_view_module_version": "1.5.0",
            "_view_name": "ProgressView",
            "bar_style": "success",
            "description": "",
            "description_tooltip": null,
            "layout": "IPY_MODEL_902d738c77714d72ab84d2a78112542c",
            "max": 170498071,
            "min": 0,
            "orientation": "horizontal",
            "style": "IPY_MODEL_00669b79c3c04857b855ced18ea21981",
            "value": 170498071
          }
        },
        "43e23a30f87f48a0865c84579b945844": {
          "model_module": "@jupyter-widgets/controls",
          "model_name": "HTMLModel",
          "model_module_version": "1.5.0",
          "state": {
            "_dom_classes": [],
            "_model_module": "@jupyter-widgets/controls",
            "_model_module_version": "1.5.0",
            "_model_name": "HTMLModel",
            "_view_count": null,
            "_view_module": "@jupyter-widgets/controls",
            "_view_module_version": "1.5.0",
            "_view_name": "HTMLView",
            "description": "",
            "description_tooltip": null,
            "layout": "IPY_MODEL_b78e2f55861e494a8c3fb125231724a0",
            "placeholder": "​",
            "style": "IPY_MODEL_02c258c16d5e41c2a89f946c6ebed258",
            "value": " 170498071/170498071 [00:13&lt;00:00, 13673630.93it/s]"
          }
        },
        "91d1f286d5e243ccbfddf787f8a11b8f": {
          "model_module": "@jupyter-widgets/base",
          "model_name": "LayoutModel",
          "model_module_version": "1.2.0",
          "state": {
            "_model_module": "@jupyter-widgets/base",
            "_model_module_version": "1.2.0",
            "_model_name": "LayoutModel",
            "_view_count": null,
            "_view_module": "@jupyter-widgets/base",
            "_view_module_version": "1.2.0",
            "_view_name": "LayoutView",
            "align_content": null,
            "align_items": null,
            "align_self": null,
            "border": null,
            "bottom": null,
            "display": null,
            "flex": null,
            "flex_flow": null,
            "grid_area": null,
            "grid_auto_columns": null,
            "grid_auto_flow": null,
            "grid_auto_rows": null,
            "grid_column": null,
            "grid_gap": null,
            "grid_row": null,
            "grid_template_areas": null,
            "grid_template_columns": null,
            "grid_template_rows": null,
            "height": null,
            "justify_content": null,
            "justify_items": null,
            "left": null,
            "margin": null,
            "max_height": null,
            "max_width": null,
            "min_height": null,
            "min_width": null,
            "object_fit": null,
            "object_position": null,
            "order": null,
            "overflow": null,
            "overflow_x": null,
            "overflow_y": null,
            "padding": null,
            "right": null,
            "top": null,
            "visibility": null,
            "width": null
          }
        },
        "4be9125ee2964baab088bb1c99bd76f7": {
          "model_module": "@jupyter-widgets/base",
          "model_name": "LayoutModel",
          "model_module_version": "1.2.0",
          "state": {
            "_model_module": "@jupyter-widgets/base",
            "_model_module_version": "1.2.0",
            "_model_name": "LayoutModel",
            "_view_count": null,
            "_view_module": "@jupyter-widgets/base",
            "_view_module_version": "1.2.0",
            "_view_name": "LayoutView",
            "align_content": null,
            "align_items": null,
            "align_self": null,
            "border": null,
            "bottom": null,
            "display": null,
            "flex": null,
            "flex_flow": null,
            "grid_area": null,
            "grid_auto_columns": null,
            "grid_auto_flow": null,
            "grid_auto_rows": null,
            "grid_column": null,
            "grid_gap": null,
            "grid_row": null,
            "grid_template_areas": null,
            "grid_template_columns": null,
            "grid_template_rows": null,
            "height": null,
            "justify_content": null,
            "justify_items": null,
            "left": null,
            "margin": null,
            "max_height": null,
            "max_width": null,
            "min_height": null,
            "min_width": null,
            "object_fit": null,
            "object_position": null,
            "order": null,
            "overflow": null,
            "overflow_x": null,
            "overflow_y": null,
            "padding": null,
            "right": null,
            "top": null,
            "visibility": null,
            "width": null
          }
        },
        "7d2e2d2a61894f208ce93d53a9521986": {
          "model_module": "@jupyter-widgets/controls",
          "model_name": "DescriptionStyleModel",
          "model_module_version": "1.5.0",
          "state": {
            "_model_module": "@jupyter-widgets/controls",
            "_model_module_version": "1.5.0",
            "_model_name": "DescriptionStyleModel",
            "_view_count": null,
            "_view_module": "@jupyter-widgets/base",
            "_view_module_version": "1.2.0",
            "_view_name": "StyleView",
            "description_width": ""
          }
        },
        "902d738c77714d72ab84d2a78112542c": {
          "model_module": "@jupyter-widgets/base",
          "model_name": "LayoutModel",
          "model_module_version": "1.2.0",
          "state": {
            "_model_module": "@jupyter-widgets/base",
            "_model_module_version": "1.2.0",
            "_model_name": "LayoutModel",
            "_view_count": null,
            "_view_module": "@jupyter-widgets/base",
            "_view_module_version": "1.2.0",
            "_view_name": "LayoutView",
            "align_content": null,
            "align_items": null,
            "align_self": null,
            "border": null,
            "bottom": null,
            "display": null,
            "flex": null,
            "flex_flow": null,
            "grid_area": null,
            "grid_auto_columns": null,
            "grid_auto_flow": null,
            "grid_auto_rows": null,
            "grid_column": null,
            "grid_gap": null,
            "grid_row": null,
            "grid_template_areas": null,
            "grid_template_columns": null,
            "grid_template_rows": null,
            "height": null,
            "justify_content": null,
            "justify_items": null,
            "left": null,
            "margin": null,
            "max_height": null,
            "max_width": null,
            "min_height": null,
            "min_width": null,
            "object_fit": null,
            "object_position": null,
            "order": null,
            "overflow": null,
            "overflow_x": null,
            "overflow_y": null,
            "padding": null,
            "right": null,
            "top": null,
            "visibility": null,
            "width": null
          }
        },
        "00669b79c3c04857b855ced18ea21981": {
          "model_module": "@jupyter-widgets/controls",
          "model_name": "ProgressStyleModel",
          "model_module_version": "1.5.0",
          "state": {
            "_model_module": "@jupyter-widgets/controls",
            "_model_module_version": "1.5.0",
            "_model_name": "ProgressStyleModel",
            "_view_count": null,
            "_view_module": "@jupyter-widgets/base",
            "_view_module_version": "1.2.0",
            "_view_name": "StyleView",
            "bar_color": null,
            "description_width": ""
          }
        },
        "b78e2f55861e494a8c3fb125231724a0": {
          "model_module": "@jupyter-widgets/base",
          "model_name": "LayoutModel",
          "model_module_version": "1.2.0",
          "state": {
            "_model_module": "@jupyter-widgets/base",
            "_model_module_version": "1.2.0",
            "_model_name": "LayoutModel",
            "_view_count": null,
            "_view_module": "@jupyter-widgets/base",
            "_view_module_version": "1.2.0",
            "_view_name": "LayoutView",
            "align_content": null,
            "align_items": null,
            "align_self": null,
            "border": null,
            "bottom": null,
            "display": null,
            "flex": null,
            "flex_flow": null,
            "grid_area": null,
            "grid_auto_columns": null,
            "grid_auto_flow": null,
            "grid_auto_rows": null,
            "grid_column": null,
            "grid_gap": null,
            "grid_row": null,
            "grid_template_areas": null,
            "grid_template_columns": null,
            "grid_template_rows": null,
            "height": null,
            "justify_content": null,
            "justify_items": null,
            "left": null,
            "margin": null,
            "max_height": null,
            "max_width": null,
            "min_height": null,
            "min_width": null,
            "object_fit": null,
            "object_position": null,
            "order": null,
            "overflow": null,
            "overflow_x": null,
            "overflow_y": null,
            "padding": null,
            "right": null,
            "top": null,
            "visibility": null,
            "width": null
          }
        },
        "02c258c16d5e41c2a89f946c6ebed258": {
          "model_module": "@jupyter-widgets/controls",
          "model_name": "DescriptionStyleModel",
          "model_module_version": "1.5.0",
          "state": {
            "_model_module": "@jupyter-widgets/controls",
            "_model_module_version": "1.5.0",
            "_model_name": "DescriptionStyleModel",
            "_view_count": null,
            "_view_module": "@jupyter-widgets/base",
            "_view_module_version": "1.2.0",
            "_view_name": "StyleView",
            "description_width": ""
          }
        },
        "c7ef11588d1f4a84afff93c97e8bb526": {
          "model_module": "@jupyter-widgets/controls",
          "model_name": "HBoxModel",
          "model_module_version": "1.5.0",
          "state": {
            "_dom_classes": [],
            "_model_module": "@jupyter-widgets/controls",
            "_model_module_version": "1.5.0",
            "_model_name": "HBoxModel",
            "_view_count": null,
            "_view_module": "@jupyter-widgets/controls",
            "_view_module_version": "1.5.0",
            "_view_name": "HBoxView",
            "box_style": "",
            "children": [
              "IPY_MODEL_d4ced2d8ecf246b6bb942335e67e1a12",
              "IPY_MODEL_7f5c83c36bff4d3e90fae73f58084930",
              "IPY_MODEL_b9cee7b56c2c4ed489fd8297a2334318"
            ],
            "layout": "IPY_MODEL_74a7ce314bfb45ac84d8604e199967a3"
          }
        },
        "d4ced2d8ecf246b6bb942335e67e1a12": {
          "model_module": "@jupyter-widgets/controls",
          "model_name": "HTMLModel",
          "model_module_version": "1.5.0",
          "state": {
            "_dom_classes": [],
            "_model_module": "@jupyter-widgets/controls",
            "_model_module_version": "1.5.0",
            "_model_name": "HTMLModel",
            "_view_count": null,
            "_view_module": "@jupyter-widgets/controls",
            "_view_module_version": "1.5.0",
            "_view_name": "HTMLView",
            "description": "",
            "description_tooltip": null,
            "layout": "IPY_MODEL_34206ab643834c2494230bcaf52c7082",
            "placeholder": "​",
            "style": "IPY_MODEL_a265dcd929de40929d854a7446449acf",
            "value": "100%"
          }
        },
        "7f5c83c36bff4d3e90fae73f58084930": {
          "model_module": "@jupyter-widgets/controls",
          "model_name": "FloatProgressModel",
          "model_module_version": "1.5.0",
          "state": {
            "_dom_classes": [],
            "_model_module": "@jupyter-widgets/controls",
            "_model_module_version": "1.5.0",
            "_model_name": "FloatProgressModel",
            "_view_count": null,
            "_view_module": "@jupyter-widgets/controls",
            "_view_module_version": "1.5.0",
            "_view_name": "ProgressView",
            "bar_style": "success",
            "description": "",
            "description_tooltip": null,
            "layout": "IPY_MODEL_f2c8729c18bf405c9ddd66f27257b822",
            "max": 102530333,
            "min": 0,
            "orientation": "horizontal",
            "style": "IPY_MODEL_df1c4243b24f4459b362c8311cef6ab2",
            "value": 102530333
          }
        },
        "b9cee7b56c2c4ed489fd8297a2334318": {
          "model_module": "@jupyter-widgets/controls",
          "model_name": "HTMLModel",
          "model_module_version": "1.5.0",
          "state": {
            "_dom_classes": [],
            "_model_module": "@jupyter-widgets/controls",
            "_model_module_version": "1.5.0",
            "_model_name": "HTMLModel",
            "_view_count": null,
            "_view_module": "@jupyter-widgets/controls",
            "_view_module_version": "1.5.0",
            "_view_name": "HTMLView",
            "description": "",
            "description_tooltip": null,
            "layout": "IPY_MODEL_947bf524950d439791064a1631e56851",
            "placeholder": "​",
            "style": "IPY_MODEL_36ed9b1296544d15849af44a568fc513",
            "value": " 97.8M/97.8M [00:00&lt;00:00, 310MB/s]"
          }
        },
        "74a7ce314bfb45ac84d8604e199967a3": {
          "model_module": "@jupyter-widgets/base",
          "model_name": "LayoutModel",
          "model_module_version": "1.2.0",
          "state": {
            "_model_module": "@jupyter-widgets/base",
            "_model_module_version": "1.2.0",
            "_model_name": "LayoutModel",
            "_view_count": null,
            "_view_module": "@jupyter-widgets/base",
            "_view_module_version": "1.2.0",
            "_view_name": "LayoutView",
            "align_content": null,
            "align_items": null,
            "align_self": null,
            "border": null,
            "bottom": null,
            "display": null,
            "flex": null,
            "flex_flow": null,
            "grid_area": null,
            "grid_auto_columns": null,
            "grid_auto_flow": null,
            "grid_auto_rows": null,
            "grid_column": null,
            "grid_gap": null,
            "grid_row": null,
            "grid_template_areas": null,
            "grid_template_columns": null,
            "grid_template_rows": null,
            "height": null,
            "justify_content": null,
            "justify_items": null,
            "left": null,
            "margin": null,
            "max_height": null,
            "max_width": null,
            "min_height": null,
            "min_width": null,
            "object_fit": null,
            "object_position": null,
            "order": null,
            "overflow": null,
            "overflow_x": null,
            "overflow_y": null,
            "padding": null,
            "right": null,
            "top": null,
            "visibility": null,
            "width": null
          }
        },
        "34206ab643834c2494230bcaf52c7082": {
          "model_module": "@jupyter-widgets/base",
          "model_name": "LayoutModel",
          "model_module_version": "1.2.0",
          "state": {
            "_model_module": "@jupyter-widgets/base",
            "_model_module_version": "1.2.0",
            "_model_name": "LayoutModel",
            "_view_count": null,
            "_view_module": "@jupyter-widgets/base",
            "_view_module_version": "1.2.0",
            "_view_name": "LayoutView",
            "align_content": null,
            "align_items": null,
            "align_self": null,
            "border": null,
            "bottom": null,
            "display": null,
            "flex": null,
            "flex_flow": null,
            "grid_area": null,
            "grid_auto_columns": null,
            "grid_auto_flow": null,
            "grid_auto_rows": null,
            "grid_column": null,
            "grid_gap": null,
            "grid_row": null,
            "grid_template_areas": null,
            "grid_template_columns": null,
            "grid_template_rows": null,
            "height": null,
            "justify_content": null,
            "justify_items": null,
            "left": null,
            "margin": null,
            "max_height": null,
            "max_width": null,
            "min_height": null,
            "min_width": null,
            "object_fit": null,
            "object_position": null,
            "order": null,
            "overflow": null,
            "overflow_x": null,
            "overflow_y": null,
            "padding": null,
            "right": null,
            "top": null,
            "visibility": null,
            "width": null
          }
        },
        "a265dcd929de40929d854a7446449acf": {
          "model_module": "@jupyter-widgets/controls",
          "model_name": "DescriptionStyleModel",
          "model_module_version": "1.5.0",
          "state": {
            "_model_module": "@jupyter-widgets/controls",
            "_model_module_version": "1.5.0",
            "_model_name": "DescriptionStyleModel",
            "_view_count": null,
            "_view_module": "@jupyter-widgets/base",
            "_view_module_version": "1.2.0",
            "_view_name": "StyleView",
            "description_width": ""
          }
        },
        "f2c8729c18bf405c9ddd66f27257b822": {
          "model_module": "@jupyter-widgets/base",
          "model_name": "LayoutModel",
          "model_module_version": "1.2.0",
          "state": {
            "_model_module": "@jupyter-widgets/base",
            "_model_module_version": "1.2.0",
            "_model_name": "LayoutModel",
            "_view_count": null,
            "_view_module": "@jupyter-widgets/base",
            "_view_module_version": "1.2.0",
            "_view_name": "LayoutView",
            "align_content": null,
            "align_items": null,
            "align_self": null,
            "border": null,
            "bottom": null,
            "display": null,
            "flex": null,
            "flex_flow": null,
            "grid_area": null,
            "grid_auto_columns": null,
            "grid_auto_flow": null,
            "grid_auto_rows": null,
            "grid_column": null,
            "grid_gap": null,
            "grid_row": null,
            "grid_template_areas": null,
            "grid_template_columns": null,
            "grid_template_rows": null,
            "height": null,
            "justify_content": null,
            "justify_items": null,
            "left": null,
            "margin": null,
            "max_height": null,
            "max_width": null,
            "min_height": null,
            "min_width": null,
            "object_fit": null,
            "object_position": null,
            "order": null,
            "overflow": null,
            "overflow_x": null,
            "overflow_y": null,
            "padding": null,
            "right": null,
            "top": null,
            "visibility": null,
            "width": null
          }
        },
        "df1c4243b24f4459b362c8311cef6ab2": {
          "model_module": "@jupyter-widgets/controls",
          "model_name": "ProgressStyleModel",
          "model_module_version": "1.5.0",
          "state": {
            "_model_module": "@jupyter-widgets/controls",
            "_model_module_version": "1.5.0",
            "_model_name": "ProgressStyleModel",
            "_view_count": null,
            "_view_module": "@jupyter-widgets/base",
            "_view_module_version": "1.2.0",
            "_view_name": "StyleView",
            "bar_color": null,
            "description_width": ""
          }
        },
        "947bf524950d439791064a1631e56851": {
          "model_module": "@jupyter-widgets/base",
          "model_name": "LayoutModel",
          "model_module_version": "1.2.0",
          "state": {
            "_model_module": "@jupyter-widgets/base",
            "_model_module_version": "1.2.0",
            "_model_name": "LayoutModel",
            "_view_count": null,
            "_view_module": "@jupyter-widgets/base",
            "_view_module_version": "1.2.0",
            "_view_name": "LayoutView",
            "align_content": null,
            "align_items": null,
            "align_self": null,
            "border": null,
            "bottom": null,
            "display": null,
            "flex": null,
            "flex_flow": null,
            "grid_area": null,
            "grid_auto_columns": null,
            "grid_auto_flow": null,
            "grid_auto_rows": null,
            "grid_column": null,
            "grid_gap": null,
            "grid_row": null,
            "grid_template_areas": null,
            "grid_template_columns": null,
            "grid_template_rows": null,
            "height": null,
            "justify_content": null,
            "justify_items": null,
            "left": null,
            "margin": null,
            "max_height": null,
            "max_width": null,
            "min_height": null,
            "min_width": null,
            "object_fit": null,
            "object_position": null,
            "order": null,
            "overflow": null,
            "overflow_x": null,
            "overflow_y": null,
            "padding": null,
            "right": null,
            "top": null,
            "visibility": null,
            "width": null
          }
        },
        "36ed9b1296544d15849af44a568fc513": {
          "model_module": "@jupyter-widgets/controls",
          "model_name": "DescriptionStyleModel",
          "model_module_version": "1.5.0",
          "state": {
            "_model_module": "@jupyter-widgets/controls",
            "_model_module_version": "1.5.0",
            "_model_name": "DescriptionStyleModel",
            "_view_count": null,
            "_view_module": "@jupyter-widgets/base",
            "_view_module_version": "1.2.0",
            "_view_name": "StyleView",
            "description_width": ""
          }
        }
      }
    }
  },
  "nbformat": 4,
  "nbformat_minor": 0
}